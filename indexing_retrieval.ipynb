{
 "cells": [
  {
   "cell_type": "code",
   "execution_count": 1,
   "id": "75284415-b893-4d60-b963-b3526739c384",
   "metadata": {},
   "outputs": [],
   "source": [
    "import os\n",
    "os.chdir('/scratch/sagarsj42')\n",
    "os.environ['TRANSFORMERS_CACHE'] = '/scratch/sagarsj42'"
   ]
  },
  {
   "cell_type": "code",
   "execution_count": 2,
   "id": "16c35fde-e843-403a-bf30-64fede1a4270",
   "metadata": {},
   "outputs": [],
   "source": [
    "import faiss\n",
    "import numpy as np\n",
    "import pandas as pd"
   ]
  },
  {
   "cell_type": "code",
   "execution_count": 3,
   "id": "6010d777-b033-4ea2-851f-770ea6bfa765",
   "metadata": {},
   "outputs": [],
   "source": [
    "DATASET_INFO_DIR = './yt8m-clips-dataset-info'\n",
    "EMBEDS_DIR = 'zeroshot-embeds'\n",
    "EMB_SIZE = 300\n",
    "RET_SIZE = 20000"
   ]
  },
  {
   "cell_type": "code",
   "execution_count": 4,
   "id": "df9f0aa7-e8f9-4c7f-a75a-71e7bc72e53e",
   "metadata": {},
   "outputs": [],
   "source": [
    "split = 'test'\n",
    "media = ['text', 'audio', 'video']"
   ]
  },
  {
   "cell_type": "code",
   "execution_count": 5,
   "id": "a011f011-e247-4c1f-9a15-39f2b6e1ab0f",
   "metadata": {},
   "outputs": [
    {
     "name": "stdout",
     "output_type": "stream",
     "text": [
      "<class 'pandas.core.frame.DataFrame'>\n",
      "RangeIndex: 14806 entries, 0 to 14805\n",
      "Data columns (total 6 columns):\n",
      " #   Column           Non-Null Count  Dtype  \n",
      "---  ------           --------------  -----  \n",
      " 0   vid              14806 non-null  object \n",
      " 1   clip_no          14806 non-null  int64  \n",
      " 2   audio_clip_name  14806 non-null  object \n",
      " 3   audio_clip_dur   14806 non-null  float64\n",
      " 4   video_clip_name  14806 non-null  object \n",
      " 5   video_clip_dur   14806 non-null  float64\n",
      "dtypes: float64(2), int64(1), object(3)\n",
      "memory usage: 694.2+ KB\n",
      "None\n"
     ]
    },
    {
     "data": {
      "text/html": [
       "<div>\n",
       "<style scoped>\n",
       "    .dataframe tbody tr th:only-of-type {\n",
       "        vertical-align: middle;\n",
       "    }\n",
       "\n",
       "    .dataframe tbody tr th {\n",
       "        vertical-align: top;\n",
       "    }\n",
       "\n",
       "    .dataframe thead th {\n",
       "        text-align: right;\n",
       "    }\n",
       "</style>\n",
       "<table border=\"1\" class=\"dataframe\">\n",
       "  <thead>\n",
       "    <tr style=\"text-align: right;\">\n",
       "      <th></th>\n",
       "      <th>vid</th>\n",
       "      <th>clip_no</th>\n",
       "      <th>audio_clip_name</th>\n",
       "      <th>audio_clip_dur</th>\n",
       "      <th>video_clip_name</th>\n",
       "      <th>video_clip_dur</th>\n",
       "    </tr>\n",
       "  </thead>\n",
       "  <tbody>\n",
       "    <tr>\n",
       "      <th>0</th>\n",
       "      <td>ZKBM2XCWfo8</td>\n",
       "      <td>21</td>\n",
       "      <td>ZKBM2XCWfo8-audio-21.mp3</td>\n",
       "      <td>8.0</td>\n",
       "      <td>ZKBM2XCWfo8-video-21.mp4</td>\n",
       "      <td>8.01</td>\n",
       "    </tr>\n",
       "    <tr>\n",
       "      <th>1</th>\n",
       "      <td>ZKBM2XCWfo8</td>\n",
       "      <td>20</td>\n",
       "      <td>ZKBM2XCWfo8-audio-20.mp3</td>\n",
       "      <td>8.0</td>\n",
       "      <td>ZKBM2XCWfo8-video-20.mp4</td>\n",
       "      <td>8.01</td>\n",
       "    </tr>\n",
       "    <tr>\n",
       "      <th>2</th>\n",
       "      <td>ZKBM2XCWfo8</td>\n",
       "      <td>22</td>\n",
       "      <td>ZKBM2XCWfo8-audio-22.mp3</td>\n",
       "      <td>8.0</td>\n",
       "      <td>ZKBM2XCWfo8-video-22.mp4</td>\n",
       "      <td>8.01</td>\n",
       "    </tr>\n",
       "    <tr>\n",
       "      <th>3</th>\n",
       "      <td>ZKBM2XCWfo8</td>\n",
       "      <td>23</td>\n",
       "      <td>ZKBM2XCWfo8-audio-23.mp3</td>\n",
       "      <td>8.0</td>\n",
       "      <td>ZKBM2XCWfo8-video-23.mp4</td>\n",
       "      <td>8.01</td>\n",
       "    </tr>\n",
       "    <tr>\n",
       "      <th>4</th>\n",
       "      <td>ZKBM2XCWfo8</td>\n",
       "      <td>27</td>\n",
       "      <td>ZKBM2XCWfo8-audio-27.mp3</td>\n",
       "      <td>8.0</td>\n",
       "      <td>ZKBM2XCWfo8-video-27.mp4</td>\n",
       "      <td>8.01</td>\n",
       "    </tr>\n",
       "  </tbody>\n",
       "</table>\n",
       "</div>"
      ],
      "text/plain": [
       "           vid  clip_no           audio_clip_name  audio_clip_dur  \\\n",
       "0  ZKBM2XCWfo8       21  ZKBM2XCWfo8-audio-21.mp3             8.0   \n",
       "1  ZKBM2XCWfo8       20  ZKBM2XCWfo8-audio-20.mp3             8.0   \n",
       "2  ZKBM2XCWfo8       22  ZKBM2XCWfo8-audio-22.mp3             8.0   \n",
       "3  ZKBM2XCWfo8       23  ZKBM2XCWfo8-audio-23.mp3             8.0   \n",
       "4  ZKBM2XCWfo8       27  ZKBM2XCWfo8-audio-27.mp3             8.0   \n",
       "\n",
       "            video_clip_name  video_clip_dur  \n",
       "0  ZKBM2XCWfo8-video-21.mp4            8.01  \n",
       "1  ZKBM2XCWfo8-video-20.mp4            8.01  \n",
       "2  ZKBM2XCWfo8-video-22.mp4            8.01  \n",
       "3  ZKBM2XCWfo8-video-23.mp4            8.01  \n",
       "4  ZKBM2XCWfo8-video-27.mp4            8.01  "
      ]
     },
     "execution_count": 5,
     "metadata": {},
     "output_type": "execute_result"
    }
   ],
   "source": [
    "clip_df = pd.read_json(os.path.join(DATASET_INFO_DIR, split, 'clip-info.jsonl'), lines=True)\n",
    "\n",
    "print(clip_df.info())\n",
    "\n",
    "clip_df.head()"
   ]
  },
  {
   "cell_type": "code",
   "execution_count": 6,
   "id": "b2d3ae54-5a6e-4652-8039-e79645103ddc",
   "metadata": {},
   "outputs": [
    {
     "name": "stdout",
     "output_type": "stream",
     "text": [
      "text (14806, 300)\n",
      "Index constructed\n",
      "audio (14806, 300)\n",
      "Index constructed\n",
      "video (14806, 300)\n",
      "Index constructed\n"
     ]
    },
    {
     "data": {
      "text/plain": [
       "{'text': <faiss.swigfaiss_avx2.IndexFlatIP; proxy of <Swig Object of type 'faiss::IndexFlatIP *' at 0x7f9e902558a0> >,\n",
       " 'audio': <faiss.swigfaiss_avx2.IndexFlatIP; proxy of <Swig Object of type 'faiss::IndexFlatIP *' at 0x7f9e8aef0f00> >,\n",
       " 'video': <faiss.swigfaiss_avx2.IndexFlatIP; proxy of <Swig Object of type 'faiss::IndexFlatIP *' at 0x7f9e8b036cf0> >}"
      ]
     },
     "execution_count": 6,
     "metadata": {},
     "output_type": "execute_result"
    }
   ],
   "source": [
    "m_embeds = dict()\n",
    "m_indices = dict()\n",
    "for m in media:\n",
    "    embeds = list()\n",
    "    for _, row in clip_df.iterrows():\n",
    "        vid = row['vid']\n",
    "        clip_no = row['clip_no']\n",
    "        file_name = f'{vid}-{clip_no}-{m}-emb.npy'\n",
    "        sample_embed = np.load(os.path.join(EMBEDS_DIR, split, m, file_name))\n",
    "        embeds.append(sample_embed)\n",
    "    m_embeds[m] = np.array(embeds)\n",
    "    \n",
    "    print(m, m_embeds[m].shape)\n",
    "    \n",
    "    index = faiss.IndexFlatIP(EMB_SIZE)\n",
    "    index.add(m_embeds[m])\n",
    "    m_indices[m] = index\n",
    "    \n",
    "    print('Index constructed')\n",
    "\n",
    "m_indices"
   ]
  },
  {
   "cell_type": "code",
   "execution_count": 7,
   "id": "ea8b7df9-0d5d-428b-965c-243685f88cc2",
   "metadata": {},
   "outputs": [
    {
     "name": "stdout",
     "output_type": "stream",
     "text": [
      "Retrieval: text to audio\n",
      "Recall @ 1: 0.013508037282182897, @ 5: 0.006754018641091449, @ 10: 0.03377009320545725\n",
      "Mean rank: 7651.719910846954, median rank: 7747.5\n",
      "\n",
      "Retrieval: text to video\n",
      "Recall @ 1: 0.006754018641091449, @ 5: 0.006754018641091449, @ 10: 0.040524111846548694\n",
      "Mean rank: 7359.062407132244, median rank: 7337.5\n",
      "\n",
      "Retrieval: audio to video\n",
      "Recall @ 1: 0.013508037282182897, @ 5: 0.006754018641091449, @ 10: 0.047278130487640145\n",
      "Mean rank: 7229.739362420641, median rank: 7056.0\n",
      "\n"
     ]
    }
   ],
   "source": [
    "for i in range(len(media)):\n",
    "    for j in range(i+1, len(media)):\n",
    "        m_1 = media[i]\n",
    "        m_2 = media[j]\n",
    "        print(f'Retrieval: {m_1} to {m_2}')\n",
    "        _, res = m_indices[media[j]].search(m_embeds[media[i]], RET_SIZE)\n",
    "        \n",
    "        n_rows = res.shape[0]\n",
    "        r_1 = 0\n",
    "        r_5 = 0\n",
    "        r_10 = 0\n",
    "        ranks = list()\n",
    "        for k in range(n_rows):\n",
    "            search = res[k, :]\n",
    "            try:\n",
    "                pos = np.where(search == k)[0][0] + 1\n",
    "            except IndexError:\n",
    "                pos = RET_SIZE + 1\n",
    "            if pos <= 1:\n",
    "                r_1 += 1\n",
    "            elif pos <= 5:\n",
    "                r_5 =+ 1\n",
    "            elif pos <= 10:\n",
    "                r_10 += 1\n",
    "            ranks.append(pos)\n",
    "        ranks = np.array(ranks)\n",
    "        mean_r = ranks.mean()\n",
    "        median_r = np.median(ranks)\n",
    "        r_1 = r_1 / n_rows * 100.0\n",
    "        r_5 = r_5 / n_rows * 100.0\n",
    "        r_10 = r_10 / n_rows * 100.0\n",
    "        print(f'Recall @ 1: {r_1}, @ 5: {r_5}, @ 10: {r_10}')\n",
    "        print(f'Mean rank: {mean_r}, median rank: {median_r}')\n",
    "        print()"
   ]
  },
  {
   "cell_type": "code",
   "execution_count": null,
   "id": "447cc017-81dc-4a99-a888-309eaed489e6",
   "metadata": {},
   "outputs": [],
   "source": []
  }
 ],
 "metadata": {
  "kernelspec": {
   "display_name": "Python 3",
   "language": "python",
   "name": "python3"
  },
  "language_info": {
   "codemirror_mode": {
    "name": "ipython",
    "version": 3
   },
   "file_extension": ".py",
   "mimetype": "text/x-python",
   "name": "python",
   "nbconvert_exporter": "python",
   "pygments_lexer": "ipython3",
   "version": "3.6.9"
  }
 },
 "nbformat": 4,
 "nbformat_minor": 5
}
