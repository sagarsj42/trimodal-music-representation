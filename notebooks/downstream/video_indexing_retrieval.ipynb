{
 "cells": [
  {
   "cell_type": "code",
   "execution_count": 1,
   "metadata": {},
   "outputs": [],
   "source": [
    "import os\n",
    "os.chdir('../../data')"
   ]
  },
  {
   "cell_type": "code",
   "execution_count": 3,
   "metadata": {},
   "outputs": [],
   "source": [
    "import faiss\n",
    "import numpy as np\n",
    "import pandas as pd"
   ]
  },
  {
   "cell_type": "code",
   "execution_count": 27,
   "metadata": {},
   "outputs": [],
   "source": [
    "DATASET_INFO_DIR = './yt8m-clips-dataset-info'\n",
    "EMBEDS_DIR = 'weighted-contrastive-embeds'\n",
    "EMB_SIZE = 300\n",
    "RET_SIZE = 10000"
   ]
  },
  {
   "cell_type": "code",
   "execution_count": 28,
   "metadata": {},
   "outputs": [],
   "source": [
    "splits = ['train', 'dev', 'test']\n",
    "media = ['text', 'audio', 'video']"
   ]
  },
  {
   "cell_type": "code",
   "execution_count": 6,
   "metadata": {},
   "outputs": [
    {
     "name": "stdout",
     "output_type": "stream",
     "text": [
      "<class 'pandas.core.frame.DataFrame'>\n",
      "RangeIndex: 58847 entries, 0 to 58846\n",
      "Data columns (total 6 columns):\n",
      " #   Column           Non-Null Count  Dtype  \n",
      "---  ------           --------------  -----  \n",
      " 0   vid              58847 non-null  object \n",
      " 1   clip_no          58847 non-null  int64  \n",
      " 2   audio_clip_name  58847 non-null  object \n",
      " 3   audio_clip_dur   58847 non-null  float64\n",
      " 4   video_clip_name  58847 non-null  object \n",
      " 5   video_clip_dur   58847 non-null  float64\n",
      "dtypes: float64(2), int64(1), object(3)\n",
      "memory usage: 2.7+ MB\n",
      "None\n"
     ]
    },
    {
     "data": {
      "text/html": [
       "<div>\n",
       "<style scoped>\n",
       "    .dataframe tbody tr th:only-of-type {\n",
       "        vertical-align: middle;\n",
       "    }\n",
       "\n",
       "    .dataframe tbody tr th {\n",
       "        vertical-align: top;\n",
       "    }\n",
       "\n",
       "    .dataframe thead th {\n",
       "        text-align: right;\n",
       "    }\n",
       "</style>\n",
       "<table border=\"1\" class=\"dataframe\">\n",
       "  <thead>\n",
       "    <tr style=\"text-align: right;\">\n",
       "      <th></th>\n",
       "      <th>vid</th>\n",
       "      <th>clip_no</th>\n",
       "      <th>audio_clip_name</th>\n",
       "      <th>audio_clip_dur</th>\n",
       "      <th>video_clip_name</th>\n",
       "      <th>video_clip_dur</th>\n",
       "    </tr>\n",
       "  </thead>\n",
       "  <tbody>\n",
       "    <tr>\n",
       "      <th>0</th>\n",
       "      <td>6YIzDW8HBPo</td>\n",
       "      <td>23</td>\n",
       "      <td>6YIzDW8HBPo-audio-23.mp3</td>\n",
       "      <td>8.0</td>\n",
       "      <td>6YIzDW8HBPo-video-23.mp4</td>\n",
       "      <td>8.01</td>\n",
       "    </tr>\n",
       "    <tr>\n",
       "      <th>1</th>\n",
       "      <td>6YIzDW8HBPo</td>\n",
       "      <td>9</td>\n",
       "      <td>6YIzDW8HBPo-audio-9.mp3</td>\n",
       "      <td>8.0</td>\n",
       "      <td>6YIzDW8HBPo-video-9.mp4</td>\n",
       "      <td>8.01</td>\n",
       "    </tr>\n",
       "    <tr>\n",
       "      <th>2</th>\n",
       "      <td>6YIzDW8HBPo</td>\n",
       "      <td>24</td>\n",
       "      <td>6YIzDW8HBPo-audio-24.mp3</td>\n",
       "      <td>8.0</td>\n",
       "      <td>6YIzDW8HBPo-video-24.mp4</td>\n",
       "      <td>8.01</td>\n",
       "    </tr>\n",
       "    <tr>\n",
       "      <th>3</th>\n",
       "      <td>6YIzDW8HBPo</td>\n",
       "      <td>15</td>\n",
       "      <td>6YIzDW8HBPo-audio-15.mp3</td>\n",
       "      <td>8.0</td>\n",
       "      <td>6YIzDW8HBPo-video-15.mp4</td>\n",
       "      <td>8.01</td>\n",
       "    </tr>\n",
       "    <tr>\n",
       "      <th>4</th>\n",
       "      <td>6YIzDW8HBPo</td>\n",
       "      <td>4</td>\n",
       "      <td>6YIzDW8HBPo-audio-4.mp3</td>\n",
       "      <td>8.0</td>\n",
       "      <td>6YIzDW8HBPo-video-4.mp4</td>\n",
       "      <td>8.01</td>\n",
       "    </tr>\n",
       "  </tbody>\n",
       "</table>\n",
       "</div>"
      ],
      "text/plain": [
       "           vid  clip_no           audio_clip_name  audio_clip_dur  \\\n",
       "0  6YIzDW8HBPo       23  6YIzDW8HBPo-audio-23.mp3             8.0   \n",
       "1  6YIzDW8HBPo        9   6YIzDW8HBPo-audio-9.mp3             8.0   \n",
       "2  6YIzDW8HBPo       24  6YIzDW8HBPo-audio-24.mp3             8.0   \n",
       "3  6YIzDW8HBPo       15  6YIzDW8HBPo-audio-15.mp3             8.0   \n",
       "4  6YIzDW8HBPo        4   6YIzDW8HBPo-audio-4.mp3             8.0   \n",
       "\n",
       "            video_clip_name  video_clip_dur  \n",
       "0  6YIzDW8HBPo-video-23.mp4            8.01  \n",
       "1   6YIzDW8HBPo-video-9.mp4            8.01  \n",
       "2  6YIzDW8HBPo-video-24.mp4            8.01  \n",
       "3  6YIzDW8HBPo-video-15.mp4            8.01  \n",
       "4   6YIzDW8HBPo-video-4.mp4            8.01  "
      ]
     },
     "execution_count": 6,
     "metadata": {},
     "output_type": "execute_result"
    }
   ],
   "source": [
    "clip_df = pd.read_json(os.path.join(DATASET_INFO_DIR, 'train', 'clip-info.jsonl'), lines=True)\n",
    "\n",
    "print(clip_df.info())\n",
    "\n",
    "clip_df.head()"
   ]
  },
  {
   "cell_type": "code",
   "execution_count": 7,
   "metadata": {},
   "outputs": [
    {
     "name": "stdout",
     "output_type": "stream",
     "text": [
      "<class 'pandas.core.frame.DataFrame'>\n",
      "RangeIndex: 4831 entries, 0 to 4830\n",
      "Data columns (total 12 columns):\n",
      " #   Column             Non-Null Count  Dtype  \n",
      "---  ------             --------------  -----  \n",
      " 0   vid                4831 non-null   object \n",
      " 1   n_clips            4831 non-null   int64  \n",
      " 2   n_sampled_clips    4831 non-null   int64  \n",
      " 3   audio_dur          4831 non-null   float64\n",
      " 4   sampled_audio_dur  4831 non-null   float64\n",
      " 5   video_dur          4831 non-null   float64\n",
      " 6   sampled_video_dur  4831 non-null   float64\n",
      " 7   split              4831 non-null   object \n",
      " 8   labels             4831 non-null   object \n",
      " 9   title              4831 non-null   object \n",
      " 10  description        4831 non-null   object \n",
      " 11  tags               4831 non-null   object \n",
      "dtypes: float64(4), int64(2), object(6)\n",
      "memory usage: 453.0+ KB\n",
      "None\n"
     ]
    },
    {
     "data": {
      "text/html": [
       "<div>\n",
       "<style scoped>\n",
       "    .dataframe tbody tr th:only-of-type {\n",
       "        vertical-align: middle;\n",
       "    }\n",
       "\n",
       "    .dataframe tbody tr th {\n",
       "        vertical-align: top;\n",
       "    }\n",
       "\n",
       "    .dataframe thead th {\n",
       "        text-align: right;\n",
       "    }\n",
       "</style>\n",
       "<table border=\"1\" class=\"dataframe\">\n",
       "  <thead>\n",
       "    <tr style=\"text-align: right;\">\n",
       "      <th></th>\n",
       "      <th>vid</th>\n",
       "      <th>n_clips</th>\n",
       "      <th>n_sampled_clips</th>\n",
       "      <th>audio_dur</th>\n",
       "      <th>sampled_audio_dur</th>\n",
       "      <th>video_dur</th>\n",
       "      <th>sampled_video_dur</th>\n",
       "      <th>split</th>\n",
       "      <th>labels</th>\n",
       "      <th>title</th>\n",
       "      <th>description</th>\n",
       "      <th>tags</th>\n",
       "    </tr>\n",
       "  </thead>\n",
       "  <tbody>\n",
       "    <tr>\n",
       "      <th>0</th>\n",
       "      <td>6YIzDW8HBPo</td>\n",
       "      <td>28</td>\n",
       "      <td>6</td>\n",
       "      <td>224.398</td>\n",
       "      <td>48.0</td>\n",
       "      <td>224.29</td>\n",
       "      <td>48.06</td>\n",
       "      <td>train1</td>\n",
       "      <td>[Music video]</td>\n",
       "      <td>Sharper Than A Knife (Lyric Video) (Pete Hammo...</td>\n",
       "      <td>Dedicated to David Lynch. Animated by John von...</td>\n",
       "      <td>parralox,sharper,than,knife,2012,pwl,saw,stock...</td>\n",
       "    </tr>\n",
       "    <tr>\n",
       "      <th>1</th>\n",
       "      <td>4EYfkE6fczE</td>\n",
       "      <td>28</td>\n",
       "      <td>6</td>\n",
       "      <td>226.615</td>\n",
       "      <td>48.0</td>\n",
       "      <td>226.59</td>\n",
       "      <td>48.06</td>\n",
       "      <td>train1</td>\n",
       "      <td>[Music video]</td>\n",
       "      <td>San Quinn - Realest Intro Ever</td>\n",
       "      <td>Music video by San Quinn performing Realest In...</td>\n",
       "      <td>San Quinn,Realest Intro Ever,Realest,Intro,Eve...</td>\n",
       "    </tr>\n",
       "    <tr>\n",
       "      <th>2</th>\n",
       "      <td>2aAIB9-0wrc</td>\n",
       "      <td>42</td>\n",
       "      <td>9</td>\n",
       "      <td>338.013</td>\n",
       "      <td>72.0</td>\n",
       "      <td>338.00</td>\n",
       "      <td>72.09</td>\n",
       "      <td>train1</td>\n",
       "      <td>[Concert, Music video]</td>\n",
       "      <td>EU TENHO UMA ALIANÇA (DVD ALIANÇA) - André Val...</td>\n",
       "      <td>Gravação ao vivo do CD/DVD Aliança na Igreja B...</td>\n",
       "      <td>EU TENHO UMA ALIANÇA,ALIANÇA,André Valadão,Igr...</td>\n",
       "    </tr>\n",
       "    <tr>\n",
       "      <th>3</th>\n",
       "      <td>8kd4GNKcvc0</td>\n",
       "      <td>30</td>\n",
       "      <td>7</td>\n",
       "      <td>242.753</td>\n",
       "      <td>56.0</td>\n",
       "      <td>242.71</td>\n",
       "      <td>56.07</td>\n",
       "      <td>train1</td>\n",
       "      <td>[Concert, Musician]</td>\n",
       "      <td>Big Time Rush - Worldwide</td>\n",
       "      <td>Big Time Rush - Worldwide\\nJingle Jam, Blue Cr...</td>\n",
       "      <td>Big,Time,Rush,Worldwide,Jingle,Jam,Rochester,N...</td>\n",
       "    </tr>\n",
       "    <tr>\n",
       "      <th>4</th>\n",
       "      <td>3UoFEJ4e8KA</td>\n",
       "      <td>28</td>\n",
       "      <td>6</td>\n",
       "      <td>224.688</td>\n",
       "      <td>48.0</td>\n",
       "      <td>224.60</td>\n",
       "      <td>48.00</td>\n",
       "      <td>train1</td>\n",
       "      <td>[Concert]</td>\n",
       "      <td>Hazama - Lagu Untukmu</td>\n",
       "      <td>GSA Bukit Tinggi Klang</td>\n",
       "      <td>Hazama,Lagu,Untukmu,AF,GSA</td>\n",
       "    </tr>\n",
       "  </tbody>\n",
       "</table>\n",
       "</div>"
      ],
      "text/plain": [
       "           vid  n_clips  n_sampled_clips  audio_dur  sampled_audio_dur  \\\n",
       "0  6YIzDW8HBPo       28                6    224.398               48.0   \n",
       "1  4EYfkE6fczE       28                6    226.615               48.0   \n",
       "2  2aAIB9-0wrc       42                9    338.013               72.0   \n",
       "3  8kd4GNKcvc0       30                7    242.753               56.0   \n",
       "4  3UoFEJ4e8KA       28                6    224.688               48.0   \n",
       "\n",
       "   video_dur  sampled_video_dur   split                  labels  \\\n",
       "0     224.29              48.06  train1           [Music video]   \n",
       "1     226.59              48.06  train1           [Music video]   \n",
       "2     338.00              72.09  train1  [Concert, Music video]   \n",
       "3     242.71              56.07  train1     [Concert, Musician]   \n",
       "4     224.60              48.00  train1               [Concert]   \n",
       "\n",
       "                                               title  \\\n",
       "0  Sharper Than A Knife (Lyric Video) (Pete Hammo...   \n",
       "1                     San Quinn - Realest Intro Ever   \n",
       "2  EU TENHO UMA ALIANÇA (DVD ALIANÇA) - André Val...   \n",
       "3                          Big Time Rush - Worldwide   \n",
       "4                              Hazama - Lagu Untukmu   \n",
       "\n",
       "                                         description  \\\n",
       "0  Dedicated to David Lynch. Animated by John von...   \n",
       "1  Music video by San Quinn performing Realest In...   \n",
       "2  Gravação ao vivo do CD/DVD Aliança na Igreja B...   \n",
       "3  Big Time Rush - Worldwide\\nJingle Jam, Blue Cr...   \n",
       "4                             GSA Bukit Tinggi Klang   \n",
       "\n",
       "                                                tags  \n",
       "0  parralox,sharper,than,knife,2012,pwl,saw,stock...  \n",
       "1  San Quinn,Realest Intro Ever,Realest,Intro,Eve...  \n",
       "2  EU TENHO UMA ALIANÇA,ALIANÇA,André Valadão,Igr...  \n",
       "3  Big,Time,Rush,Worldwide,Jingle,Jam,Rochester,N...  \n",
       "4                         Hazama,Lagu,Untukmu,AF,GSA  "
      ]
     },
     "execution_count": 7,
     "metadata": {},
     "output_type": "execute_result"
    }
   ],
   "source": [
    "vid_df = pd.read_json(os.path.join(DATASET_INFO_DIR, 'train', 'video-info.jsonl'), lines=True)\n",
    "\n",
    "print(vid_df.info())\n",
    "\n",
    "vid_df.head()"
   ]
  },
  {
   "cell_type": "code",
   "execution_count": 16,
   "metadata": {},
   "outputs": [
    {
     "name": "stdout",
     "output_type": "stream",
     "text": [
      "Insufficient clips in train for oKcBv8084ZU: expected 34, found 33\n",
      "Insufficient clips in train for ukk0TpAkJpQ: expected 23, found 22\n",
      "Insufficient clips in test for 9sMjAn5tP3U: expected 40, found 39\n",
      "Insufficient clips in test for QyIOvRn2Z_8: expected 61, found 60\n",
      "Insufficient clips in test for ZiAau4ESESs: expected 34, found 33\n",
      "Insufficient clips in test for hlRpflYurPk: expected 25, found 24\n"
     ]
    },
    {
     "data": {
      "text/plain": [
       "dict_keys(['train', 'dev', 'test'])"
      ]
     },
     "execution_count": 16,
     "metadata": {},
     "output_type": "execute_result"
    }
   ],
   "source": [
    "video_features_data = dict()\n",
    "for split in splits:\n",
    "    split_data = list()\n",
    "    vid_df = pd.read_json(os.path.join(DATASET_INFO_DIR, split, 'video-info.jsonl'), lines=True)\n",
    "    clip_df = pd.read_json(os.path.join(DATASET_INFO_DIR, split, 'clip-info.jsonl'), lines=True)\n",
    "    for _, row in vid_df.iterrows():\n",
    "        vid = row['vid']\n",
    "        labels = row['labels']\n",
    "        \n",
    "        if split == 'train':\n",
    "            n_clips = row['n_sampled_clips']\n",
    "        else:\n",
    "            n_clips = row['n_clips']\n",
    "        clip_nos = clip_df[clip_df['vid'] == vid]['clip_no'].tolist()\n",
    "        try:\n",
    "            assert n_clips == len(clip_nos)\n",
    "        except:\n",
    "            print(f'Insufficient clips in {split} for {vid}: expected {n_clips}, found {len(clip_nos)}')\n",
    "        \n",
    "        text_embeds = list()\n",
    "        audio_embeds = list()\n",
    "        video_embeds = list()\n",
    "        for clip_no in clip_nos:\n",
    "            text_file_name = f'{vid}-{clip_no}-text-emb.npy'\n",
    "            text_embed = np.load(os.path.join(EMBEDS_DIR, split, 'text', text_file_name))\n",
    "            text_embeds.append(text_embed)\n",
    "            audio_file_name = f'{vid}-{clip_no}-audio-emb.npy'\n",
    "            audio_embed = np.load(os.path.join(EMBEDS_DIR, split, 'audio', audio_file_name))\n",
    "            audio_embeds.append(audio_embed)\n",
    "            video_file_name = f'{vid}-{clip_no}-video-emb.npy'\n",
    "            video_embed = np.load(os.path.join(EMBEDS_DIR, split, 'video', video_file_name))\n",
    "            video_embeds.append(video_embed)\n",
    "        text_embeds = np.array(text_embeds)\n",
    "        audio_embeds = np.array(audio_embeds)\n",
    "        video_embeds = np.array(video_embeds)\n",
    "        split_data.append({\n",
    "            'vid': vid,\n",
    "            'text_features': text_embeds,\n",
    "            'audio_features': audio_embeds,\n",
    "            'video_features': video_embeds,\n",
    "            'labels': labels\n",
    "        })\n",
    "    video_features_data[split] = split_data\n",
    "\n",
    "video_features_data.keys()"
   ]
  },
  {
   "cell_type": "code",
   "execution_count": 17,
   "metadata": {},
   "outputs": [
    {
     "data": {
      "text/plain": [
       "(4831, 499, 461)"
      ]
     },
     "execution_count": 17,
     "metadata": {},
     "output_type": "execute_result"
    }
   ],
   "source": [
    "len(video_features_data['train']), len(video_features_data['dev']), len(video_features_data['test'])"
   ]
  },
  {
   "cell_type": "code",
   "execution_count": 18,
   "metadata": {},
   "outputs": [
    {
     "data": {
      "text/plain": [
       "{'vid': '6YIzDW8HBPo',\n",
       " 'text_features': array([[-5.92609011e-02, -3.96903604e-04, -1.27322361e-01, ...,\n",
       "          3.30117270e-02, -2.39759728e-01,  3.06975424e-01],\n",
       "        [ 3.18600982e-01, -3.68400812e-02,  8.04564506e-02, ...,\n",
       "         -2.70390898e-01, -2.88113326e-01, -1.27779663e-01],\n",
       "        [ 4.44685847e-01, -4.56447423e-01,  1.03591394e+00, ...,\n",
       "          1.08903952e-01, -5.33871293e-01,  7.53110528e-01],\n",
       "        [ 7.06050754e-01, -7.69041896e-01,  6.71283007e-01, ...,\n",
       "         -1.04032755e-01, -2.13710591e-01,  2.42335960e-01],\n",
       "        [ 2.70545334e-01, -7.62386769e-02,  3.18925202e-01, ...,\n",
       "         -2.65933394e-01, -1.53988600e-01, -2.07858413e-01],\n",
       "        [ 1.64108455e-01,  2.19373524e-01,  1.80868298e-01, ...,\n",
       "         -3.42652909e-02, -4.24078107e-03,  3.15298736e-02]], dtype=float32),\n",
       " 'audio_features': array([[-0.09538653,  0.07119057, -0.06264777, ...,  0.03291445,\n",
       "          0.07796044,  0.01284727],\n",
       "        [-0.28774795,  0.16270117, -0.04386227, ...,  0.10613745,\n",
       "          0.15983982, -0.01497643],\n",
       "        [-0.24755254,  0.02329738, -0.11598207, ...,  0.20974664,\n",
       "          0.00330581,  0.03020374],\n",
       "        [-0.29136866,  0.1302152 , -0.06050174, ...,  0.06319528,\n",
       "          0.04143047, -0.04133729],\n",
       "        [-0.24481118,  0.22861145, -0.11998299, ...,  0.09575342,\n",
       "          0.10455899,  0.04762237],\n",
       "        [-0.30877241,  0.16691923, -0.00302748, ...,  0.13375516,\n",
       "         -0.00313855, -0.15067163]], dtype=float32),\n",
       " 'video_features': array([[-0.16368051, -0.12115378, -0.4386084 , ...,  0.18957224,\n",
       "         -0.13153996, -0.22677268],\n",
       "        [-0.30147895,  0.0601085 , -0.41409233, ...,  0.00459911,\n",
       "          0.04485491, -0.14953198],\n",
       "        [ 0.01901044, -0.01648029, -0.35422105, ...,  0.03543382,\n",
       "         -0.07611051, -0.09376191],\n",
       "        [-0.08917154,  0.01589954, -0.2592241 , ...,  0.01977763,\n",
       "          0.07579158,  0.0553195 ],\n",
       "        [-0.09215182,  0.04423848, -0.25070196, ..., -0.01337352,\n",
       "          0.00713766,  0.02944141],\n",
       "        [-0.16738518,  0.09803315, -0.24989097, ..., -0.02559751,\n",
       "          0.02913223,  0.03434039]], dtype=float32),\n",
       " 'labels': ['Music video']}"
      ]
     },
     "execution_count": 18,
     "metadata": {},
     "output_type": "execute_result"
    }
   ],
   "source": [
    "video_features_data['train'][0]"
   ]
  },
  {
   "cell_type": "code",
   "execution_count": 19,
   "metadata": {},
   "outputs": [
    {
     "data": {
      "text/plain": [
       "(300,)"
      ]
     },
     "execution_count": 19,
     "metadata": {},
     "output_type": "execute_result"
    }
   ],
   "source": [
    "video_features_data['train'][0]['video_features'].mean(axis=0).shape"
   ]
  },
  {
   "cell_type": "code",
   "execution_count": 20,
   "metadata": {},
   "outputs": [
    {
     "data": {
      "text/plain": [
       "dict_keys(['train', 'dev', 'test'])"
      ]
     },
     "execution_count": 20,
     "metadata": {},
     "output_type": "execute_result"
    }
   ],
   "source": [
    "mean_data = dict()\n",
    "for split in splits:\n",
    "    split_data = video_features_data[split]\n",
    "    all_text = list()\n",
    "    all_audio = list()\n",
    "    all_video = list()\n",
    "    all_labels = list()\n",
    "    for instance in split_data:\n",
    "        all_text.append(instance['text_features'].mean(axis=0))\n",
    "        all_audio.append(instance['audio_features'].mean(axis=0))\n",
    "        all_video.append(instance['video_features'].mean(axis=0))\n",
    "        all_labels.append(instance['labels'])\n",
    "    all_text = np.array(all_text)\n",
    "    all_audio = np.array(all_audio)\n",
    "    all_video = np.array(all_video)\n",
    "    mean_data[split] = {'text': all_text, 'audio': all_audio, 'video': all_video, 'labels': all_labels}\n",
    "\n",
    "mean_data.keys()"
   ]
  },
  {
   "cell_type": "code",
   "execution_count": 21,
   "metadata": {},
   "outputs": [
    {
     "data": {
      "text/plain": [
       "dict_keys(['text', 'audio', 'video', 'labels'])"
      ]
     },
     "execution_count": 21,
     "metadata": {},
     "output_type": "execute_result"
    }
   ],
   "source": [
    "split = 'test'\n",
    "mean_data[split].keys()"
   ]
  },
  {
   "cell_type": "code",
   "execution_count": 22,
   "metadata": {},
   "outputs": [
    {
     "data": {
      "text/plain": [
       "((461, 300), (461, 300), (461, 300))"
      ]
     },
     "execution_count": 22,
     "metadata": {},
     "output_type": "execute_result"
    }
   ],
   "source": [
    "mean_data[split]['text'].shape, mean_data[split]['audio'].shape, mean_data[split]['video'].shape"
   ]
  },
  {
   "cell_type": "code",
   "execution_count": 25,
   "metadata": {},
   "outputs": [
    {
     "data": {
      "text/plain": [
       "{'text': <faiss.swigfaiss.IndexFlatIP; proxy of <Swig Object of type 'faiss::IndexFlatIP *' at 0x1314062a0> >,\n",
       " 'audio': <faiss.swigfaiss.IndexFlatIP; proxy of <Swig Object of type 'faiss::IndexFlatIP *' at 0x131865510> >,\n",
       " 'video': <faiss.swigfaiss.IndexFlatIP; proxy of <Swig Object of type 'faiss::IndexFlatIP *' at 0x1318651e0> >}"
      ]
     },
     "execution_count": 25,
     "metadata": {},
     "output_type": "execute_result"
    }
   ],
   "source": [
    "m_indices = dict()\n",
    "for m in media:\n",
    "    index = faiss.IndexFlatIP(EMB_SIZE)\n",
    "    index.add(mean_data[split][m])\n",
    "    m_indices[m] = index\n",
    "\n",
    "m_indices"
   ]
  },
  {
   "cell_type": "code",
   "execution_count": 31,
   "metadata": {},
   "outputs": [
    {
     "name": "stdout",
     "output_type": "stream",
     "text": [
      "Retrieval: text to audio\n",
      "Recall @ 1: 1.0845986984815619, @ 5: 0.21691973969631237, @ 10: 13.232104121475055\n",
      "Mean rank: 106.56399132321042, median rank: 73.0\n",
      "\n",
      "Retrieval: text to video\n",
      "Recall @ 1: 1.0845986984815619, @ 5: 0.21691973969631237, @ 10: 11.279826464208242\n",
      "Mean rank: 114.97180043383948, median rank: 83.0\n",
      "\n",
      "Retrieval: audio to video\n",
      "Recall @ 1: 2.386117136659436, @ 5: 0.21691973969631237, @ 10: 12.58134490238612\n",
      "Mean rank: 90.1822125813449, median rank: 60.0\n",
      "\n"
     ]
    }
   ],
   "source": [
    "for i in range(len(media)):\n",
    "    for j in range(i+1, len(media)):\n",
    "        m_1 = media[i]\n",
    "        m_2 = media[j]\n",
    "        print(f'Retrieval: {m_1} to {m_2}')\n",
    "        _, res = m_indices[media[j]].search(mean_data[split][media[i]], RET_SIZE)\n",
    "        \n",
    "        n_rows = res.shape[0]\n",
    "        r_1 = 0\n",
    "        r_5 = 0\n",
    "        r_10 = 0\n",
    "        ranks = list()\n",
    "        for k in range(n_rows):\n",
    "            search = res[k, :]\n",
    "            try:\n",
    "                pos = np.where(search == k)[0][0] + 1\n",
    "            except IndexError:\n",
    "                pos = RET_SIZE + 1\n",
    "            if pos <= 1:\n",
    "                r_1 += 1\n",
    "            if pos <= 5:\n",
    "                r_5 += 1\n",
    "            if pos <= 10:\n",
    "                r_10 += 1\n",
    "            ranks.append(pos)\n",
    "        ranks = np.array(ranks)\n",
    "        mean_r = ranks.mean()\n",
    "        median_r = np.median(ranks)\n",
    "        r_1 = r_1 / n_rows * 100.0\n",
    "        r_5 = r_5 / n_rows * 100.0\n",
    "        r_10 = r_10 / n_rows * 100.0\n",
    "        print(f'Recall @ 1: {r_1}, @ 5: {r_5}, @ 10: {r_10}')\n",
    "        print(f'Mean rank: {mean_r}, median rank: {median_r}')\n",
    "        print()"
   ]
  },
  {
   "cell_type": "code",
   "execution_count": null,
   "metadata": {},
   "outputs": [],
   "source": []
  }
 ],
 "metadata": {
  "kernelspec": {
   "display_name": "base",
   "language": "python",
   "name": "python3"
  },
  "language_info": {
   "codemirror_mode": {
    "name": "ipython",
    "version": 3
   },
   "file_extension": ".py",
   "mimetype": "text/x-python",
   "name": "python",
   "nbconvert_exporter": "python",
   "pygments_lexer": "ipython3",
   "version": "3.9.12"
  },
  "orig_nbformat": 4
 },
 "nbformat": 4,
 "nbformat_minor": 2
}
