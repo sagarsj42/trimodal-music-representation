{
 "cells": [
  {
   "cell_type": "code",
   "execution_count": 1,
   "id": "92e5ed51",
   "metadata": {},
   "outputs": [],
   "source": [
    "import os\n",
    "os.chdir('/scratch/sagarsj42')"
   ]
  },
  {
   "cell_type": "code",
   "execution_count": 2,
   "id": "46a4c1f5",
   "metadata": {},
   "outputs": [],
   "source": [
    "import re\n",
    "import json\n",
    "import pickle\n",
    "\n",
    "from googleapiclient.discovery import build\n",
    "from google_auth_oauthlib.flow import InstalledAppFlow\n",
    "from google.auth.transport.requests import Request"
   ]
  },
  {
   "cell_type": "code",
   "execution_count": 3,
   "id": "90baecbb",
   "metadata": {},
   "outputs": [],
   "source": [
    "SCOPES = [\"https://www.googleapis.com/auth/youtube.force-ssl\"]\n",
    "RAW_LABELS_EXT_DATA_PATH = './yt8m-label-extracted'\n",
    "CLEAN_LABELS_EXT_DATA_PATH = './yt8m-labels'\n",
    "INFO_DATA_PATH = './yt8m-info'\n",
    "INFO_EXT_IDS_PATH = './yt8m-extracted-ids.txt'\n",
    "split = 'dev'"
   ]
  },
  {
   "cell_type": "code",
   "execution_count": 4,
   "id": "2310662e",
   "metadata": {},
   "outputs": [
    {
     "data": {
      "text/plain": [
       "(3067, 168559)"
      ]
     },
     "execution_count": 4,
     "metadata": {},
     "output_type": "execute_result"
    }
   ],
   "source": [
    "os.makedirs(CLEAN_LABELS_EXT_DATA_PATH, exist_ok=True)\n",
    "label_data = list()\n",
    "corrections = 0\n",
    "with open(os.path.join(CLEAN_LABELS_EXT_DATA_PATH, f'{split}.jsonl'), 'w') as f1:\n",
    "    with open(os.path.join(RAW_LABELS_EXT_DATA_PATH, f'{split}.jsonl'), 'r') as f2:\n",
    "        for line in f2:\n",
    "            try:\n",
    "                item = json.loads(line)\n",
    "                label_data.append(item)\n",
    "            except:\n",
    "                corrections += 1\n",
    "                break_ind = line.index('}') + 1\n",
    "                item = json.loads(line[:break_ind])\n",
    "                label_data.append(item)\n",
    "                item = json.loads(line[break_ind:])\n",
    "                label_data.append(item)\n",
    "        f1.write('\\n'.join([json.dumps(i) for i in label_data]))\n",
    "\n",
    "corrections, len(label_data)"
   ]
  },
  {
   "cell_type": "code",
   "execution_count": 5,
   "id": "d76bb809",
   "metadata": {},
   "outputs": [],
   "source": [
    "def youtube_authenticate(scopes):\n",
    "    os.environ['OAUTHLIB_INSECURE_TRANSPORT'] = '1'\n",
    "    api_service_name = 'youtube'\n",
    "    api_version = 'v3'\n",
    "    client_secrets_file = '/home2/sagarsj42/yt8m/youtube-data-api-creds.json'\n",
    "    creds = None\n",
    "    \n",
    "    if os.path.exists('/home2/sagarsj42/yt8m/token.pickle'):\n",
    "        with open('/home2/sagarsj42/yt8m/token.pickle', 'rb') as f:\n",
    "            creds = pickle.load(f)\n",
    "    if not creds or not creds.valid:\n",
    "        if creds and creds.expired and creds.refresh_token:\n",
    "            creds.refresh(Request())\n",
    "        else:\n",
    "            flow = InstalledAppFlow.from_client_secrets_file(client_secrets_file, scopes)\n",
    "            creds = flow.run_local_server(port=0)\n",
    "        with open('/home2/sagarsj42/yt8m/token.pickle', 'wb') as f:\n",
    "            pickle.dump(creds, f)\n",
    "    \n",
    "    return build(api_service_name, api_version, credentials=creds)"
   ]
  },
  {
   "cell_type": "code",
   "execution_count": 6,
   "id": "cd8b13f4",
   "metadata": {},
   "outputs": [],
   "source": [
    "def get_video_details(youtube, **kw_args):\n",
    "    return youtube.videos().list(\n",
    "        part='snippet,contentDetails,statistics',\n",
    "        **kw_args\n",
    "    ).execute()"
   ]
  },
  {
   "cell_type": "code",
   "execution_count": 7,
   "id": "c724c183",
   "metadata": {},
   "outputs": [],
   "source": [
    "def obtain_video_info(video_response):\n",
    "    if not video_response.get('items'):\n",
    "        print('no info')\n",
    "        return dict()\n",
    "    \n",
    "    items = video_response.get('items')[0]\n",
    "    vid = items['id'].strip()\n",
    "    snippet = items['snippet']\n",
    "    statistics = items['statistics']\n",
    "    content_details = items['contentDetails']\n",
    "    \n",
    "    # get infos from the snippet\n",
    "    title = snippet['title'].strip()\n",
    "    description = snippet['description'].strip()\n",
    "    publish_time = snippet['publishedAt'].strip()\n",
    "    channel_id = snippet['channelId'].strip()\n",
    "    channel_title = snippet['channelTitle'].strip()\n",
    "    try:\n",
    "        tags = ','.join(snippet['tags']).strip()\n",
    "    except:\n",
    "        print('tags n.a.', vid)\n",
    "        tags = ''\n",
    "    \n",
    "    # get stats infos\n",
    "    try:\n",
    "        view_count = int(statistics['viewCount'].strip())\n",
    "    except:\n",
    "        print('views n.a.', vid)\n",
    "        view_count = -1\n",
    "    try:\n",
    "        like_count = int(statistics['likeCount'].strip())\n",
    "    except:\n",
    "        print('likes n.a.', vid)\n",
    "        like_count = -1\n",
    "    try:\n",
    "        comment_count = int(statistics['commentCount'].strip())\n",
    "    except:\n",
    "        print('comments n.a.', vid)\n",
    "        comment_count = -1\n",
    "    fav_count = int(statistics['favoriteCount'].strip())\n",
    "    \n",
    "    # get duration from content details\n",
    "    try:\n",
    "        duration = content_details['duration']\n",
    "        # duration in the form of something like 'PT5H50M15S'\n",
    "        # parsing it to be something like '5:50:15'\n",
    "        parsed_duration = re.search(f'PT(\\d+H)?(\\d+M)?(\\d+S)', duration).groups()\n",
    "        duration_str = ''\n",
    "        for d in parsed_duration:\n",
    "            if d:\n",
    "                duration_str += f'{d[:-1]}:'\n",
    "        duration_str = duration_str.strip(':')\n",
    "    except:\n",
    "        print('duration n.a.', vid, duration)\n",
    "        duration_str = ''\n",
    "    \n",
    "    # get content details\n",
    "    definition = content_details['definition']\n",
    "    licensed_content = content_details['licensedContent']\n",
    "    content_rating = json.dumps(content_details['contentRating'])\n",
    "    projection = content_details['projection']\n",
    "    dimension = content_details['dimension']\n",
    "    caption = content_details['caption']\n",
    "    \n",
    "    info_dict = {\n",
    "        'vid': vid,\n",
    "        'title': title,\n",
    "        'description': description,\n",
    "        'publish_time': publish_time,\n",
    "        'channel_id': channel_id,\n",
    "        'channel_title': channel_title,\n",
    "        'tags': tags,\n",
    "        \n",
    "        'view_count': view_count,\n",
    "        'like_count': like_count,\n",
    "        'comment_count': comment_count,\n",
    "        'fav_count': fav_count,\n",
    "        \n",
    "        'duration': duration_str,\n",
    "        'definition': definition,\n",
    "        'licensed_content': licensed_content,\n",
    "        'content_rating': content_rating,\n",
    "        'projection': projection,\n",
    "        'dimension': dimension,\n",
    "        'caption': caption\n",
    "    }\n",
    "    \n",
    "    return info_dict"
   ]
  },
  {
   "cell_type": "code",
   "execution_count": 8,
   "id": "175cbe38",
   "metadata": {},
   "outputs": [
    {
     "data": {
      "text/plain": [
       "<googleapiclient.discovery.Resource at 0x7f4a3d491280>"
      ]
     },
     "execution_count": 8,
     "metadata": {},
     "output_type": "execute_result"
    }
   ],
   "source": [
    "youtube = youtube_authenticate(SCOPES)\n",
    "\n",
    "youtube"
   ]
  },
  {
   "cell_type": "code",
   "execution_count": 9,
   "id": "d3fddfe7",
   "metadata": {},
   "outputs": [
    {
     "data": {
      "text/plain": [
       "(168559,\n",
       " [{'vid': 'l2qBnK3Phks', 'labels': ['Concert', 'Drummer']},\n",
       "  {'vid': 'MakeMGirX6I',\n",
       "   'labels': ['Musician', 'Drum kit', 'Drum', 'Drummer']}])"
      ]
     },
     "execution_count": 9,
     "metadata": {},
     "output_type": "execute_result"
    }
   ],
   "source": [
    "label_data = list()\n",
    "with open(os.path.join(CLEAN_LABELS_EXT_DATA_PATH, f'{split}.jsonl'), 'r') as f:\n",
    "    for line in f:\n",
    "        line = line.strip()\n",
    "        item = json.loads(line)\n",
    "        label_data.append(item)\n",
    "\n",
    "len(label_data), label_data[:2]"
   ]
  },
  {
   "cell_type": "code",
   "execution_count": 10,
   "id": "4afe1f45",
   "metadata": {},
   "outputs": [
    {
     "ename": "HttpError",
     "evalue": "<HttpError 403 when requesting https://youtube.googleapis.com/youtube/v3/videos?part=snippet%2CcontentDetails%2Cstatistics&id=Dp0B5FJKv7g&alt=json returned \"The request cannot be completed because you have exceeded your <a href=\"/youtube/v3/getting-started#quota\">quota</a>.\". Details: \"[{'message': 'The request cannot be completed because you have exceeded your <a href=\"/youtube/v3/getting-started#quota\">quota</a>.', 'domain': 'youtube.quota', 'reason': 'quotaExceeded'}]\">",
     "output_type": "error",
     "traceback": [
      "\u001b[0;31m---------------------------------------------------------------------------\u001b[0m",
      "\u001b[0;31mHttpError\u001b[0m                                 Traceback (most recent call last)",
      "Cell \u001b[0;32mIn[10], line 16\u001b[0m\n\u001b[1;32m     13\u001b[0m \u001b[38;5;28;01mexcept\u001b[39;00m:\n\u001b[1;32m     14\u001b[0m     \u001b[38;5;28mprint\u001b[39m(\u001b[38;5;124m'\u001b[39m\u001b[38;5;124mStarting from all ids afresh.\u001b[39m\u001b[38;5;124m'\u001b[39m)\n\u001b[0;32m---> 16\u001b[0m video_response \u001b[38;5;241m=\u001b[39m \u001b[43mget_video_details\u001b[49m\u001b[43m(\u001b[49m\u001b[43myoutube\u001b[49m\u001b[43m,\u001b[49m\u001b[43m \u001b[49m\u001b[38;5;28;43mid\u001b[39;49m\u001b[38;5;241;43m=\u001b[39;49m\u001b[43mvid\u001b[49m\u001b[43m)\u001b[49m\n\u001b[1;32m     17\u001b[0m info \u001b[38;5;241m=\u001b[39m obtain_video_info(video_response)\n\u001b[1;32m     18\u001b[0m \u001b[38;5;28;01mif\u001b[39;00m \u001b[38;5;129;01mnot\u001b[39;00m info:\n",
      "Cell \u001b[0;32mIn[6], line 2\u001b[0m, in \u001b[0;36mget_video_details\u001b[0;34m(youtube, **kw_args)\u001b[0m\n\u001b[1;32m      1\u001b[0m \u001b[38;5;28;01mdef\u001b[39;00m \u001b[38;5;21mget_video_details\u001b[39m(youtube, \u001b[38;5;241m*\u001b[39m\u001b[38;5;241m*\u001b[39mkw_args):\n\u001b[0;32m----> 2\u001b[0m     \u001b[38;5;28;01mreturn\u001b[39;00m \u001b[43myoutube\u001b[49m\u001b[38;5;241;43m.\u001b[39;49m\u001b[43mvideos\u001b[49m\u001b[43m(\u001b[49m\u001b[43m)\u001b[49m\u001b[38;5;241;43m.\u001b[39;49m\u001b[43mlist\u001b[49m\u001b[43m(\u001b[49m\n\u001b[1;32m      3\u001b[0m \u001b[43m        \u001b[49m\u001b[43mpart\u001b[49m\u001b[38;5;241;43m=\u001b[39;49m\u001b[38;5;124;43m'\u001b[39;49m\u001b[38;5;124;43msnippet,contentDetails,statistics\u001b[39;49m\u001b[38;5;124;43m'\u001b[39;49m\u001b[43m,\u001b[49m\n\u001b[1;32m      4\u001b[0m \u001b[43m        \u001b[49m\u001b[38;5;241;43m*\u001b[39;49m\u001b[38;5;241;43m*\u001b[39;49m\u001b[43mkw_args\u001b[49m\n\u001b[1;32m      5\u001b[0m \u001b[43m    \u001b[49m\u001b[43m)\u001b[49m\u001b[38;5;241;43m.\u001b[39;49m\u001b[43mexecute\u001b[49m\u001b[43m(\u001b[49m\u001b[43m)\u001b[49m\n",
      "File \u001b[0;32m~/miniconda3/envs/video/lib/python3.9/site-packages/googleapiclient/_helpers.py:130\u001b[0m, in \u001b[0;36mpositional.<locals>.positional_decorator.<locals>.positional_wrapper\u001b[0;34m(*args, **kwargs)\u001b[0m\n\u001b[1;32m    128\u001b[0m     \u001b[38;5;28;01melif\u001b[39;00m positional_parameters_enforcement \u001b[38;5;241m==\u001b[39m POSITIONAL_WARNING:\n\u001b[1;32m    129\u001b[0m         logger\u001b[38;5;241m.\u001b[39mwarning(message)\n\u001b[0;32m--> 130\u001b[0m \u001b[38;5;28;01mreturn\u001b[39;00m \u001b[43mwrapped\u001b[49m\u001b[43m(\u001b[49m\u001b[38;5;241;43m*\u001b[39;49m\u001b[43margs\u001b[49m\u001b[43m,\u001b[49m\u001b[43m \u001b[49m\u001b[38;5;241;43m*\u001b[39;49m\u001b[38;5;241;43m*\u001b[39;49m\u001b[43mkwargs\u001b[49m\u001b[43m)\u001b[49m\n",
      "File \u001b[0;32m~/miniconda3/envs/video/lib/python3.9/site-packages/googleapiclient/http.py:938\u001b[0m, in \u001b[0;36mHttpRequest.execute\u001b[0;34m(self, http, num_retries)\u001b[0m\n\u001b[1;32m    936\u001b[0m     callback(resp)\n\u001b[1;32m    937\u001b[0m \u001b[38;5;28;01mif\u001b[39;00m resp\u001b[38;5;241m.\u001b[39mstatus \u001b[38;5;241m>\u001b[39m\u001b[38;5;241m=\u001b[39m \u001b[38;5;241m300\u001b[39m:\n\u001b[0;32m--> 938\u001b[0m     \u001b[38;5;28;01mraise\u001b[39;00m HttpError(resp, content, uri\u001b[38;5;241m=\u001b[39m\u001b[38;5;28mself\u001b[39m\u001b[38;5;241m.\u001b[39muri)\n\u001b[1;32m    939\u001b[0m \u001b[38;5;28;01mreturn\u001b[39;00m \u001b[38;5;28mself\u001b[39m\u001b[38;5;241m.\u001b[39mpostproc(resp, content)\n",
      "\u001b[0;31mHttpError\u001b[0m: <HttpError 403 when requesting https://youtube.googleapis.com/youtube/v3/videos?part=snippet%2CcontentDetails%2Cstatistics&id=Dp0B5FJKv7g&alt=json returned \"The request cannot be completed because you have exceeded your <a href=\"/youtube/v3/getting-started#quota\">quota</a>.\". Details: \"[{'message': 'The request cannot be completed because you have exceeded your <a href=\"/youtube/v3/getting-started#quota\">quota</a>.', 'domain': 'youtube.quota', 'reason': 'quotaExceeded'}]\">"
     ]
    }
   ],
   "source": [
    "os.makedirs(INFO_DATA_PATH, exist_ok=True)\n",
    "with open(os.path.join(INFO_DATA_PATH, f'{split}.jsonl'), 'a') as info_f:\n",
    "    for item in label_data:\n",
    "        vid = item['vid'].strip()\n",
    "        \n",
    "        try:\n",
    "            with open(INFO_EXT_IDS_PATH, 'r') as list_f:\n",
    "                done_ids = set(list_f.read().split('\\n'))\n",
    "                if len(done_ids) % 1000 == 0:\n",
    "                    print(f'# infos downloaded so far: {len(done_ids)}')\n",
    "                if vid in done_ids:\n",
    "                    continue\n",
    "        except:\n",
    "            print('Starting from all ids afresh.')\n",
    "        \n",
    "        video_response = get_video_details(youtube, id=vid)\n",
    "        info = obtain_video_info(video_response)\n",
    "        if not info:\n",
    "            info['vid'] = vid\n",
    "        assert info['vid'] == vid\n",
    "        info_f.write(json.dumps(info) + '\\n')\n",
    "        \n",
    "        with open(INFO_EXT_IDS_PATH, 'a') as list_f:\n",
    "            list_f.write(vid + '\\n')"
   ]
  },
  {
   "cell_type": "code",
   "execution_count": null,
   "id": "87ed446a",
   "metadata": {},
   "outputs": [],
   "source": []
  }
 ],
 "metadata": {
  "kernelspec": {
   "display_name": "Python 3 (ipykernel)",
   "language": "python",
   "name": "python3"
  },
  "language_info": {
   "codemirror_mode": {
    "name": "ipython",
    "version": 3
   },
   "file_extension": ".py",
   "mimetype": "text/x-python",
   "name": "python",
   "nbconvert_exporter": "python",
   "pygments_lexer": "ipython3",
   "version": "3.9.16"
  }
 },
 "nbformat": 4,
 "nbformat_minor": 5
}
