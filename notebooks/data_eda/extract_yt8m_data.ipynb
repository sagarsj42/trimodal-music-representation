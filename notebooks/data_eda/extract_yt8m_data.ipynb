{
 "cells": [
  {
   "cell_type": "code",
   "execution_count": 1,
   "id": "a8e96500",
   "metadata": {},
   "outputs": [],
   "source": [
    "import os\n",
    "os.chdir('/scratch/sagarsj42')"
   ]
  },
  {
   "cell_type": "code",
   "execution_count": 10,
   "id": "fc46ba97",
   "metadata": {},
   "outputs": [],
   "source": [
    "import json\n",
    "import warnings\n",
    "\n",
    "import requests\n",
    "import pandas as pd\n",
    "import tensorflow as tf"
   ]
  },
  {
   "cell_type": "code",
   "execution_count": 24,
   "id": "430de320",
   "metadata": {},
   "outputs": [],
   "source": [
    "data_dir = './yt8m'\n",
    "yt8m_vocab_file = './yt8m-vocab.csv'\n",
    "select_labels_list = './select-music-labels.txt'\n",
    "extracted_labels_data_folder = './yt8m-label-extracted'\n",
    "extracted_features_data_folder = './yt8m-features-extracted'\n",
    "split = 'dev'"
   ]
  },
  {
   "cell_type": "code",
   "execution_count": 11,
   "id": "ec4624cc",
   "metadata": {},
   "outputs": [],
   "source": [
    "warnings.filterwarnings('ignore')"
   ]
  },
  {
   "cell_type": "code",
   "execution_count": 4,
   "id": "a3a6b28a",
   "metadata": {},
   "outputs": [],
   "source": [
    "with open(select_labels_list, 'r') as f:\n",
    "    labels = f.read().split('\\n')"
   ]
  },
  {
   "cell_type": "code",
   "execution_count": 5,
   "id": "e7a24aea",
   "metadata": {},
   "outputs": [
    {
     "name": "stdout",
     "output_type": "stream",
     "text": [
      "<class 'pandas.core.frame.DataFrame'>\n",
      "RangeIndex: 3862 entries, 0 to 3861\n",
      "Data columns (total 9 columns):\n",
      " #   Column            Non-Null Count  Dtype \n",
      "---  ------            --------------  ----- \n",
      " 0   Index             3862 non-null   int64 \n",
      " 1   TrainVideoCount   3862 non-null   int64 \n",
      " 2   KnowledgeGraphId  3862 non-null   object\n",
      " 3   Name              3806 non-null   object\n",
      " 4   WikiUrl           3806 non-null   object\n",
      " 5   Vertical1         3862 non-null   object\n",
      " 6   Vertical2         584 non-null    object\n",
      " 7   Vertical3         32 non-null     object\n",
      " 8   WikiDescription   3806 non-null   object\n",
      "dtypes: int64(2), object(7)\n",
      "memory usage: 271.7+ KB\n",
      "None\n"
     ]
    },
    {
     "data": {
      "text/html": [
       "<div>\n",
       "<style scoped>\n",
       "    .dataframe tbody tr th:only-of-type {\n",
       "        vertical-align: middle;\n",
       "    }\n",
       "\n",
       "    .dataframe tbody tr th {\n",
       "        vertical-align: top;\n",
       "    }\n",
       "\n",
       "    .dataframe thead th {\n",
       "        text-align: right;\n",
       "    }\n",
       "</style>\n",
       "<table border=\"1\" class=\"dataframe\">\n",
       "  <thead>\n",
       "    <tr style=\"text-align: right;\">\n",
       "      <th></th>\n",
       "      <th>Index</th>\n",
       "      <th>TrainVideoCount</th>\n",
       "      <th>KnowledgeGraphId</th>\n",
       "      <th>Name</th>\n",
       "      <th>WikiUrl</th>\n",
       "      <th>Vertical1</th>\n",
       "      <th>Vertical2</th>\n",
       "      <th>Vertical3</th>\n",
       "      <th>WikiDescription</th>\n",
       "    </tr>\n",
       "  </thead>\n",
       "  <tbody>\n",
       "    <tr>\n",
       "      <th>0</th>\n",
       "      <td>0</td>\n",
       "      <td>788288</td>\n",
       "      <td>/m/03bt1gh</td>\n",
       "      <td>Game</td>\n",
       "      <td>https://en.wikipedia.org/wiki/Game</td>\n",
       "      <td>Games</td>\n",
       "      <td>NaN</td>\n",
       "      <td>NaN</td>\n",
       "      <td>A game is structured form of play, usually und...</td>\n",
       "    </tr>\n",
       "    <tr>\n",
       "      <th>1</th>\n",
       "      <td>1</td>\n",
       "      <td>539945</td>\n",
       "      <td>/m/01mw1</td>\n",
       "      <td>Video game</td>\n",
       "      <td>https://en.wikipedia.org/wiki/Video_game</td>\n",
       "      <td>Games</td>\n",
       "      <td>NaN</td>\n",
       "      <td>NaN</td>\n",
       "      <td>A video game is an electronic game that involv...</td>\n",
       "    </tr>\n",
       "    <tr>\n",
       "      <th>2</th>\n",
       "      <td>2</td>\n",
       "      <td>415890</td>\n",
       "      <td>/m/07yv9</td>\n",
       "      <td>Vehicle</td>\n",
       "      <td>https://en.wikipedia.org/wiki/Vehicle</td>\n",
       "      <td>Autos &amp; Vehicles</td>\n",
       "      <td>NaN</td>\n",
       "      <td>NaN</td>\n",
       "      <td>A vehicle is a mobile machine that transports ...</td>\n",
       "    </tr>\n",
       "    <tr>\n",
       "      <th>3</th>\n",
       "      <td>3</td>\n",
       "      <td>378135</td>\n",
       "      <td>/m/01jddz</td>\n",
       "      <td>Concert</td>\n",
       "      <td>https://en.wikipedia.org/wiki/Concert</td>\n",
       "      <td>Arts &amp; Entertainment</td>\n",
       "      <td>NaN</td>\n",
       "      <td>NaN</td>\n",
       "      <td>A concert is a live music performance in front...</td>\n",
       "    </tr>\n",
       "    <tr>\n",
       "      <th>4</th>\n",
       "      <td>4</td>\n",
       "      <td>286532</td>\n",
       "      <td>/m/09jwl</td>\n",
       "      <td>Musician</td>\n",
       "      <td>https://en.wikipedia.org/wiki/Musician</td>\n",
       "      <td>Arts &amp; Entertainment</td>\n",
       "      <td>NaN</td>\n",
       "      <td>NaN</td>\n",
       "      <td>A musician is a person who plays a musical ins...</td>\n",
       "    </tr>\n",
       "  </tbody>\n",
       "</table>\n",
       "</div>"
      ],
      "text/plain": [
       "   Index  TrainVideoCount KnowledgeGraphId        Name  \\\n",
       "0      0           788288       /m/03bt1gh        Game   \n",
       "1      1           539945         /m/01mw1  Video game   \n",
       "2      2           415890         /m/07yv9     Vehicle   \n",
       "3      3           378135        /m/01jddz     Concert   \n",
       "4      4           286532         /m/09jwl    Musician   \n",
       "\n",
       "                                    WikiUrl             Vertical1 Vertical2  \\\n",
       "0        https://en.wikipedia.org/wiki/Game                 Games       NaN   \n",
       "1  https://en.wikipedia.org/wiki/Video_game                 Games       NaN   \n",
       "2     https://en.wikipedia.org/wiki/Vehicle      Autos & Vehicles       NaN   \n",
       "3     https://en.wikipedia.org/wiki/Concert  Arts & Entertainment       NaN   \n",
       "4    https://en.wikipedia.org/wiki/Musician  Arts & Entertainment       NaN   \n",
       "\n",
       "  Vertical3                                    WikiDescription  \n",
       "0       NaN  A game is structured form of play, usually und...  \n",
       "1       NaN  A video game is an electronic game that involv...  \n",
       "2       NaN  A vehicle is a mobile machine that transports ...  \n",
       "3       NaN  A concert is a live music performance in front...  \n",
       "4       NaN  A musician is a person who plays a musical ins...  "
      ]
     },
     "execution_count": 5,
     "metadata": {},
     "output_type": "execute_result"
    }
   ],
   "source": [
    "yt8m_vocab_df = pd.read_csv(yt8m_vocab_file)\n",
    "\n",
    "print(yt8m_vocab_df.info())\n",
    "\n",
    "yt8m_vocab_df.head()"
   ]
  },
  {
   "cell_type": "code",
   "execution_count": 6,
   "id": "bb9f001a",
   "metadata": {},
   "outputs": [
    {
     "data": {
      "text/plain": [
       "(45,\n",
       " {3: 'Concert',\n",
       "  4: 'Musician',\n",
       "  9: 'Guitar',\n",
       "  10: 'String instrument',\n",
       "  13: 'Musical ensemble',\n",
       "  14: 'Music video',\n",
       "  28: 'Drum kit',\n",
       "  31: 'Piano',\n",
       "  33: 'Drum',\n",
       "  34: 'Acoustic guitar',\n",
       "  37: 'Electric guitar',\n",
       "  38: 'Drummer',\n",
       "  41: 'Choir',\n",
       "  47: 'Pianist',\n",
       "  54: 'Orchestra',\n",
       "  57: 'Musical keyboard',\n",
       "  61: 'Disc jockey',\n",
       "  78: 'Snare drum',\n",
       "  86: 'Cymbal',\n",
       "  97: 'Violin',\n",
       "  117: 'Electronic keyboard',\n",
       "  154: 'Accordion',\n",
       "  164: 'Marching band',\n",
       "  168: 'Brass instrument',\n",
       "  188: 'Saxophone',\n",
       "  243: 'Viola',\n",
       "  263: 'Diatonic button accordion',\n",
       "  278: 'Cello',\n",
       "  300: 'Flute',\n",
       "  324: 'Music festival',\n",
       "  330: 'Trumpet',\n",
       "  339: 'Guitar Hero',\n",
       "  348: 'Organ (music)',\n",
       "  351: 'Fiddle',\n",
       "  421: 'Guitar amplifier',\n",
       "  539: 'Flamenco',\n",
       "  550: 'Banjo',\n",
       "  551: 'Harmonica',\n",
       "  553: 'Drum stick',\n",
       "  552: 'Quartet',\n",
       "  565: 'Trombone',\n",
       "  578: 'Mixtape',\n",
       "  594: 'Tenor saxophone',\n",
       "  585: 'Clarinet',\n",
       "  671: 'Bagpipes'})"
      ]
     },
     "execution_count": 6,
     "metadata": {},
     "output_type": "execute_result"
    }
   ],
   "source": [
    "label_yt8m_indices = dict()\n",
    "for label in labels:\n",
    "    yt8m_indx = yt8m_vocab_df[yt8m_vocab_df['Name'] == label].iloc[0]['Index']\n",
    "    label_yt8m_indices[yt8m_indx] = label\n",
    "\n",
    "len(label_yt8m_indices), label_yt8m_indices"
   ]
  },
  {
   "cell_type": "code",
   "execution_count": 7,
   "id": "c2d4235b",
   "metadata": {},
   "outputs": [],
   "source": [
    "def extract_video_info(tf_record_path, label_yt8m_indices):\n",
    "    video_infos = list()\n",
    "    for raw_rec in tf.data.TFRecordDataset(tf_record_path):\n",
    "        example = tf.train.Example()\n",
    "        example.ParseFromString(raw_rec.numpy())\n",
    "        \n",
    "        labels = [v for v in example.features.feature['labels'].int64_list.value]\n",
    "        if len(set(labels).intersection(set(label_yt8m_indices.keys()))) < 1:\n",
    "            continue\n",
    "        label_values = list()\n",
    "        for label in labels:\n",
    "            if label in label_yt8m_indices:\n",
    "                label_values.append(label_yt8m_indices[label])\n",
    "        \n",
    "        data_id = example.features.feature['id'].bytes_list.value[0].decode()\n",
    "        try:\n",
    "            prefix = data_id[:2]\n",
    "            vid_req_url = f'https://data.yt8m.org/2/j/i/{prefix}/{data_id}.js'\n",
    "            response = requests.get(vid_req_url, verify=False)\n",
    "            vid = response.text.split(',')[1].split('\"')[1]\n",
    "        except:\n",
    "            continue\n",
    "        \n",
    "        mean_rgb = [v for v in example.features.feature['mean_rgb'].float_list.value]\n",
    "        mean_audio = [v for v in example.features.feature['mean_audio'].float_list.value]\n",
    "        \n",
    "        video_infos.append({\n",
    "            'vid': vid,\n",
    "            'labels': label_values,\n",
    "            'mean_rgb': mean_rgb,\n",
    "            'mean_audio': mean_audio\n",
    "        })\n",
    "    \n",
    "    return video_infos"
   ]
  },
  {
   "cell_type": "code",
   "execution_count": 18,
   "id": "faf1ae06",
   "metadata": {},
   "outputs": [
    {
     "data": {
      "text/plain": [
       "3845"
      ]
     },
     "execution_count": 18,
     "metadata": {},
     "output_type": "execute_result"
    }
   ],
   "source": [
    "len(os.listdir(os.path.join(data_dir, split)))"
   ]
  },
  {
   "cell_type": "code",
   "execution_count": 20,
   "id": "c953ab6b",
   "metadata": {},
   "outputs": [
    {
     "name": "stderr",
     "output_type": "stream",
     "text": [
      "2023-06-04 01:10:09.326924: I tensorflow/core/common_runtime/executor.cc:1197] [/device:CPU:0] (DEBUG INFO) Executor start aborting (this does not indicate an error and you can ignore this message): INVALID_ARGUMENT: You must feed a value for placeholder tensor 'Placeholder/_0' with dtype string and shape [1]\n",
      "\t [[{{node Placeholder/_0}}]]\n",
      "2023-06-04 01:10:16.965360: I tensorflow/core/common_runtime/executor.cc:1197] [/device:CPU:0] (DEBUG INFO) Executor start aborting (this does not indicate an error and you can ignore this message): INVALID_ARGUMENT: You must feed a value for placeholder tensor 'Placeholder/_0' with dtype string and shape [1]\n",
      "\t [[{{node Placeholder/_0}}]]\n"
     ]
    },
    {
     "data": {
      "text/plain": [
       "(102, dict_keys(['vid', 'labels', 'mean_rgb', 'mean_audio']))"
      ]
     },
     "execution_count": 20,
     "metadata": {},
     "output_type": "execute_result"
    }
   ],
   "source": [
    "all_extracted_data = list()\n",
    "for tf_record_filename in os.listdir(os.path.join(data_dir, split))[:2]:\n",
    "    extracted_data = extract_video_info(os.path.join(data_dir, split, tf_record_filename), label_yt8m_indices)\n",
    "    all_extracted_data.extend(extracted_data)\n",
    "\n",
    "len(all_extracted_data), all_extracted_data[0].keys()"
   ]
  },
  {
   "cell_type": "code",
   "execution_count": 23,
   "id": "04d82908",
   "metadata": {},
   "outputs": [],
   "source": [
    "label_data = list()\n",
    "os.makedirs(extracted_labels_data_folder, exist_ok=True)\n",
    "for info in all_extracted_data:\n",
    "    label_data.append({\n",
    "        'vid': info['vid'],\n",
    "        'labels': info['labels']\n",
    "    })\n",
    "label_data_jsonl = '\\n'.join([json.dumps(d) for d in label_data])\n",
    "with open(os.path.join(extracted_labels_data_folder, f'{split}.jsonl'), 'w') as f:\n",
    "    f.write(label_data_jsonl)"
   ]
  },
  {
   "cell_type": "code",
   "execution_count": 25,
   "id": "daf73519",
   "metadata": {},
   "outputs": [],
   "source": [
    "os.makedirs(os.path.join(extracted_features_data_folder, split), exist_ok=True)\n",
    "for info in all_extracted_data:\n",
    "    vid = info['vid']\n",
    "    mean_rgb = info['mean_rgb']\n",
    "    mean_audio = info['mean_audio']\n",
    "    with open(os.path.join(extracted_features_data_folder, split, f'{vid}.json'), 'w') as f:\n",
    "        json.dump(info, f)"
   ]
  },
  {
   "cell_type": "code",
   "execution_count": 26,
   "id": "dccfe696",
   "metadata": {},
   "outputs": [
    {
     "name": "stderr",
     "output_type": "stream",
     "text": [
      "2023-06-04 01:29:07.545995: I tensorflow/core/common_runtime/executor.cc:1197] [/device:CPU:0] (DEBUG INFO) Executor start aborting (this does not indicate an error and you can ignore this message): INVALID_ARGUMENT: You must feed a value for placeholder tensor 'Placeholder/_0' with dtype string and shape [1]\n",
      "\t [[{{node Placeholder/_0}}]]\n",
      "2023-06-04 01:32:28.385342: I tensorflow/core/common_runtime/executor.cc:1197] [/device:CPU:0] (DEBUG INFO) Executor start aborting (this does not indicate an error and you can ignore this message): INVALID_ARGUMENT: You must feed a value for placeholder tensor 'Placeholder/_0' with dtype string and shape [1]\n",
      "\t [[{{node Placeholder/_0}}]]\n",
      "2023-06-04 01:35:48.177806: I tensorflow/core/common_runtime/executor.cc:1197] [/device:CPU:0] (DEBUG INFO) Executor start aborting (this does not indicate an error and you can ignore this message): INVALID_ARGUMENT: You must feed a value for placeholder tensor 'Placeholder/_0' with dtype string and shape [1]\n",
      "\t [[{{node Placeholder/_0}}]]\n",
      "2023-06-04 01:35:56.007270: I tensorflow/core/common_runtime/executor.cc:1197] [/device:CPU:0] (DEBUG INFO) Executor start aborting (this does not indicate an error and you can ignore this message): INVALID_ARGUMENT: You must feed a value for placeholder tensor 'Placeholder/_0' with dtype string and shape [1]\n",
      "\t [[{{node Placeholder/_0}}]]\n",
      "2023-06-04 01:36:03.895815: I tensorflow/core/common_runtime/executor.cc:1197] [/device:CPU:0] (DEBUG INFO) Executor start aborting (this does not indicate an error and you can ignore this message): INVALID_ARGUMENT: You must feed a value for placeholder tensor 'Placeholder/_0' with dtype string and shape [1]\n",
      "\t [[{{node Placeholder/_0}}]]\n",
      "2023-06-04 01:36:04.004076: I tensorflow/core/common_runtime/executor.cc:1197] [/device:CPU:0] (DEBUG INFO) Executor start aborting (this does not indicate an error and you can ignore this message): INVALID_ARGUMENT: You must feed a value for placeholder tensor 'Placeholder/_0' with dtype string and shape [1]\n",
      "\t [[{{node Placeholder/_0}}]]\n"
     ]
    }
   ],
   "source": [
    "for split in ['train', 'dev', 'test']:\n",
    "    all_extracted_data = list()\n",
    "    for tf_record_filename in os.listdir(os.path.join(data_dir, split))[:2]:\n",
    "        extracted_data = extract_video_info(os.path.join(data_dir, split, tf_record_filename), \n",
    "                                            label_yt8m_indices)\n",
    "        all_extracted_data.extend(extracted_data)\n",
    "    \n",
    "    label_data = list()\n",
    "    os.makedirs(extracted_labels_data_folder, exist_ok=True)\n",
    "    for info in all_extracted_data:\n",
    "        label_data.append({\n",
    "            'vid': info['vid'],\n",
    "            'labels': info['labels']\n",
    "        })\n",
    "    label_data_jsonl = '\\n'.join([json.dumps(d) for d in label_data])\n",
    "    with open(os.path.join(extracted_labels_data_folder, f'{split}.jsonl'), 'w') as f:\n",
    "        f.write(label_data_jsonl)\n",
    "    \n",
    "    os.makedirs(os.path.join(extracted_features_data_folder, split), exist_ok=True)\n",
    "    for info in all_extracted_data:\n",
    "        vid = info['vid']\n",
    "        mean_rgb = info['mean_rgb']\n",
    "        mean_audio = info['mean_audio']\n",
    "        with open(os.path.join(extracted_features_data_folder, split, f'{vid}.json'), 'w') as f:\n",
    "            json.dump(info, f)"
   ]
  },
  {
   "cell_type": "code",
   "execution_count": null,
   "id": "071a730b",
   "metadata": {},
   "outputs": [],
   "source": []
  }
 ],
 "metadata": {
  "kernelspec": {
   "display_name": "Python 3 (ipykernel)",
   "language": "python",
   "name": "python3"
  },
  "language_info": {
   "codemirror_mode": {
    "name": "ipython",
    "version": 3
   },
   "file_extension": ".py",
   "mimetype": "text/x-python",
   "name": "python",
   "nbconvert_exporter": "python",
   "pygments_lexer": "ipython3",
   "version": "3.9.16"
  }
 },
 "nbformat": 4,
 "nbformat_minor": 5
}
