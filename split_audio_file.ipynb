{
 "cells": [
  {
   "cell_type": "code",
   "execution_count": 1,
   "metadata": {},
   "outputs": [
    {
     "data": {
      "text/plain": [
       "'/Users/sagar/ms-iiit/is-music/data'"
      ]
     },
     "execution_count": 1,
     "metadata": {},
     "output_type": "execute_result"
    }
   ],
   "source": [
    "import os\n",
    "os.chdir('../data')\n",
    "\n",
    "os.getcwd()"
   ]
  },
  {
   "cell_type": "code",
   "execution_count": 2,
   "metadata": {},
   "outputs": [],
   "source": [
    "import glob\n",
    "import json\n",
    "\n",
    "from pydub import AudioSegment"
   ]
  },
  {
   "cell_type": "code",
   "execution_count": 3,
   "metadata": {},
   "outputs": [],
   "source": [
    "DOWN_DATA_DIR = './yt8m-av-down-data'\n",
    "CLIPS_DATA_DIR = './yt8m-audio-clips'\n",
    "split = 'test'"
   ]
  },
  {
   "cell_type": "code",
   "execution_count": 4,
   "metadata": {},
   "outputs": [],
   "source": [
    "threshold = 8000\n",
    "clip_off_last = 3000\n",
    "format = 'mp3'"
   ]
  },
  {
   "cell_type": "code",
   "execution_count": 5,
   "metadata": {},
   "outputs": [
    {
     "data": {
      "text/plain": [
       "0"
      ]
     },
     "execution_count": 5,
     "metadata": {},
     "output_type": "execute_result"
    }
   ],
   "source": [
    "input_split_dir = os.path.join(DOWN_DATA_DIR, split)\n",
    "output_split_dir = os.path.join(CLIPS_DATA_DIR, split)\n",
    "info_file_name = f'audio-clips-info-{split}.jsonl'\n",
    "\n",
    "os.makedirs(output_split_dir, exist_ok=True)\n",
    "os.system(f\"touch ./{CLIPS_DATA_DIR}/{info_file_name}\")"
   ]
  },
  {
   "cell_type": "code",
   "execution_count": 6,
   "metadata": {},
   "outputs": [],
   "source": [
    "for vid in os.listdir(input_split_dir):\n",
    "    if len(os.listdir(os.path.join(input_split_dir, vid))) != 2:\n",
    "        continue\n",
    "    audio_file = glob.glob(pathname=f'{input_split_dir}/{vid}/{vid}-audio.*')[0]\n",
    "    audio_segment = AudioSegment.from_file(audio_file)\n",
    "    dur_ms = len(audio_segment)\n",
    "    dur_sec = len(audio_segment)/1000\n",
    "    start = 0\n",
    "    end = 0\n",
    "    c = 0\n",
    "    \n",
    "    os.makedirs(os.path.join(output_split_dir, vid), exist_ok=True)\n",
    "    while start < (dur_ms - clip_off_last):\n",
    "        end += threshold\n",
    "        clip = audio_segment[start:end]\n",
    "        c += 1\n",
    "        clip.export(os.path.join(output_split_dir, vid, f'{vid}-audio-{c}.{format}'), format=format)\n",
    "        start += threshold\n",
    "    info = {\n",
    "        'vid': vid,\n",
    "        'duration_sec': dur_sec,\n",
    "        'n_clips': c,\n",
    "        'last_clip_dur': len(clip)/1000.0\n",
    "    }\n",
    "    with open(os.path.join(CLIPS_DATA_DIR, info_file_name), 'a') as f:\n",
    "        f.write(json.dumps(info) + '\\n')"
   ]
  },
  {
   "cell_type": "code",
   "execution_count": null,
   "metadata": {},
   "outputs": [],
   "source": []
  }
 ],
 "metadata": {
  "kernelspec": {
   "display_name": "base",
   "language": "python",
   "name": "python3"
  },
  "language_info": {
   "codemirror_mode": {
    "name": "ipython",
    "version": 3
   },
   "file_extension": ".py",
   "mimetype": "text/x-python",
   "name": "python",
   "nbconvert_exporter": "python",
   "pygments_lexer": "ipython3",
   "version": "3.9.12"
  },
  "orig_nbformat": 4
 },
 "nbformat": 4,
 "nbformat_minor": 2
}
