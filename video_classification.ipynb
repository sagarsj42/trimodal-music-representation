{
 "cells": [
  {
   "cell_type": "code",
   "execution_count": 8,
   "id": "1e9b9246-4b0e-4ab0-abc3-713f817b2200",
   "metadata": {},
   "outputs": [],
   "source": [
    "import sys\n",
    "sys.executable = '/home2/sagarsj42/miniconda3/envs/video/bin/python'"
   ]
  },
  {
   "cell_type": "code",
   "execution_count": 9,
   "id": "12c8c6e5-75d5-4927-a360-8e864128a4ec",
   "metadata": {},
   "outputs": [],
   "source": [
    "import os\n",
    "os.chdir('/scratch/sagarsj42')"
   ]
  },
  {
   "cell_type": "code",
   "execution_count": 10,
   "id": "6ee7bc48-479b-4c5f-ae9c-d0d912dc63d8",
   "metadata": {},
   "outputs": [
    {
     "data": {
      "text/plain": [
       "'/home2/sagarsj42/miniconda3/envs/video/bin/python'"
      ]
     },
     "execution_count": 10,
     "metadata": {},
     "output_type": "execute_result"
    }
   ],
   "source": [
    "sys.executable"
   ]
  },
  {
   "cell_type": "code",
   "execution_count": 37,
   "id": "ba2d4616-0970-4f5e-b424-751456fa6388",
   "metadata": {},
   "outputs": [],
   "source": [
    "import numpy as np\n",
    "import pandas as pd\n",
    "from sklearn.preprocessing import LabelEncoder, MultiLabelBinarizer\n",
    "from sklearn.neural_network import MLPClassifier\n",
    "from sklearn.metrics import accuracy_score"
   ]
  },
  {
   "cell_type": "code",
   "execution_count": 12,
   "id": "a2110bbf-7c25-4562-856d-09f70f57afe8",
   "metadata": {},
   "outputs": [],
   "source": [
    "DATASET_INFO_DIR = './yt8m-clips-dataset-info'\n",
    "EMBEDS_DIR = 'zeroshot-embeds'"
   ]
  },
  {
   "cell_type": "code",
   "execution_count": 13,
   "id": "ee342c8c-25c1-4cdf-9037-88c3f7249426",
   "metadata": {},
   "outputs": [],
   "source": [
    "splits = ['train', 'dev', 'test']\n",
    "media = ['text', 'audio', 'video']"
   ]
  },
  {
   "cell_type": "code",
   "execution_count": 14,
   "id": "436c4464-9c2f-468b-b797-dc85dede6088",
   "metadata": {},
   "outputs": [
    {
     "name": "stdout",
     "output_type": "stream",
     "text": [
      "<class 'pandas.core.frame.DataFrame'>\n",
      "RangeIndex: 58847 entries, 0 to 58846\n",
      "Data columns (total 6 columns):\n",
      " #   Column           Non-Null Count  Dtype  \n",
      "---  ------           --------------  -----  \n",
      " 0   vid              58847 non-null  object \n",
      " 1   clip_no          58847 non-null  int64  \n",
      " 2   audio_clip_name  58847 non-null  object \n",
      " 3   audio_clip_dur   58847 non-null  float64\n",
      " 4   video_clip_name  58847 non-null  object \n",
      " 5   video_clip_dur   58847 non-null  float64\n",
      "dtypes: float64(2), int64(1), object(3)\n",
      "memory usage: 2.7+ MB\n",
      "None\n"
     ]
    },
    {
     "data": {
      "text/html": [
       "<div>\n",
       "<style scoped>\n",
       "    .dataframe tbody tr th:only-of-type {\n",
       "        vertical-align: middle;\n",
       "    }\n",
       "\n",
       "    .dataframe tbody tr th {\n",
       "        vertical-align: top;\n",
       "    }\n",
       "\n",
       "    .dataframe thead th {\n",
       "        text-align: right;\n",
       "    }\n",
       "</style>\n",
       "<table border=\"1\" class=\"dataframe\">\n",
       "  <thead>\n",
       "    <tr style=\"text-align: right;\">\n",
       "      <th></th>\n",
       "      <th>vid</th>\n",
       "      <th>clip_no</th>\n",
       "      <th>audio_clip_name</th>\n",
       "      <th>audio_clip_dur</th>\n",
       "      <th>video_clip_name</th>\n",
       "      <th>video_clip_dur</th>\n",
       "    </tr>\n",
       "  </thead>\n",
       "  <tbody>\n",
       "    <tr>\n",
       "      <th>0</th>\n",
       "      <td>6YIzDW8HBPo</td>\n",
       "      <td>23</td>\n",
       "      <td>6YIzDW8HBPo-audio-23.mp3</td>\n",
       "      <td>8.0</td>\n",
       "      <td>6YIzDW8HBPo-video-23.mp4</td>\n",
       "      <td>8.01</td>\n",
       "    </tr>\n",
       "    <tr>\n",
       "      <th>1</th>\n",
       "      <td>6YIzDW8HBPo</td>\n",
       "      <td>9</td>\n",
       "      <td>6YIzDW8HBPo-audio-9.mp3</td>\n",
       "      <td>8.0</td>\n",
       "      <td>6YIzDW8HBPo-video-9.mp4</td>\n",
       "      <td>8.01</td>\n",
       "    </tr>\n",
       "    <tr>\n",
       "      <th>2</th>\n",
       "      <td>6YIzDW8HBPo</td>\n",
       "      <td>24</td>\n",
       "      <td>6YIzDW8HBPo-audio-24.mp3</td>\n",
       "      <td>8.0</td>\n",
       "      <td>6YIzDW8HBPo-video-24.mp4</td>\n",
       "      <td>8.01</td>\n",
       "    </tr>\n",
       "    <tr>\n",
       "      <th>3</th>\n",
       "      <td>6YIzDW8HBPo</td>\n",
       "      <td>15</td>\n",
       "      <td>6YIzDW8HBPo-audio-15.mp3</td>\n",
       "      <td>8.0</td>\n",
       "      <td>6YIzDW8HBPo-video-15.mp4</td>\n",
       "      <td>8.01</td>\n",
       "    </tr>\n",
       "    <tr>\n",
       "      <th>4</th>\n",
       "      <td>6YIzDW8HBPo</td>\n",
       "      <td>4</td>\n",
       "      <td>6YIzDW8HBPo-audio-4.mp3</td>\n",
       "      <td>8.0</td>\n",
       "      <td>6YIzDW8HBPo-video-4.mp4</td>\n",
       "      <td>8.01</td>\n",
       "    </tr>\n",
       "  </tbody>\n",
       "</table>\n",
       "</div>"
      ],
      "text/plain": [
       "           vid  clip_no           audio_clip_name  audio_clip_dur  \\\n",
       "0  6YIzDW8HBPo       23  6YIzDW8HBPo-audio-23.mp3             8.0   \n",
       "1  6YIzDW8HBPo        9   6YIzDW8HBPo-audio-9.mp3             8.0   \n",
       "2  6YIzDW8HBPo       24  6YIzDW8HBPo-audio-24.mp3             8.0   \n",
       "3  6YIzDW8HBPo       15  6YIzDW8HBPo-audio-15.mp3             8.0   \n",
       "4  6YIzDW8HBPo        4   6YIzDW8HBPo-audio-4.mp3             8.0   \n",
       "\n",
       "            video_clip_name  video_clip_dur  \n",
       "0  6YIzDW8HBPo-video-23.mp4            8.01  \n",
       "1   6YIzDW8HBPo-video-9.mp4            8.01  \n",
       "2  6YIzDW8HBPo-video-24.mp4            8.01  \n",
       "3  6YIzDW8HBPo-video-15.mp4            8.01  \n",
       "4   6YIzDW8HBPo-video-4.mp4            8.01  "
      ]
     },
     "execution_count": 14,
     "metadata": {},
     "output_type": "execute_result"
    }
   ],
   "source": [
    "clip_df = pd.read_json(os.path.join(DATASET_INFO_DIR, 'train', 'clip-info.jsonl'), lines=True)\n",
    "\n",
    "print(clip_df.info())\n",
    "\n",
    "clip_df.head()"
   ]
  },
  {
   "cell_type": "code",
   "execution_count": 15,
   "id": "283d99bd-06cb-42bd-8561-cd1680623667",
   "metadata": {},
   "outputs": [
    {
     "name": "stdout",
     "output_type": "stream",
     "text": [
      "<class 'pandas.core.frame.DataFrame'>\n",
      "RangeIndex: 4831 entries, 0 to 4830\n",
      "Data columns (total 12 columns):\n",
      " #   Column             Non-Null Count  Dtype  \n",
      "---  ------             --------------  -----  \n",
      " 0   vid                4831 non-null   object \n",
      " 1   n_clips            4831 non-null   int64  \n",
      " 2   n_sampled_clips    4831 non-null   int64  \n",
      " 3   audio_dur          4831 non-null   float64\n",
      " 4   sampled_audio_dur  4831 non-null   float64\n",
      " 5   video_dur          4831 non-null   float64\n",
      " 6   sampled_video_dur  4831 non-null   float64\n",
      " 7   split              4831 non-null   object \n",
      " 8   labels             4831 non-null   object \n",
      " 9   title              4831 non-null   object \n",
      " 10  description        4831 non-null   object \n",
      " 11  tags               4831 non-null   object \n",
      "dtypes: float64(4), int64(2), object(6)\n",
      "memory usage: 453.0+ KB\n",
      "None\n"
     ]
    },
    {
     "data": {
      "text/html": [
       "<div>\n",
       "<style scoped>\n",
       "    .dataframe tbody tr th:only-of-type {\n",
       "        vertical-align: middle;\n",
       "    }\n",
       "\n",
       "    .dataframe tbody tr th {\n",
       "        vertical-align: top;\n",
       "    }\n",
       "\n",
       "    .dataframe thead th {\n",
       "        text-align: right;\n",
       "    }\n",
       "</style>\n",
       "<table border=\"1\" class=\"dataframe\">\n",
       "  <thead>\n",
       "    <tr style=\"text-align: right;\">\n",
       "      <th></th>\n",
       "      <th>vid</th>\n",
       "      <th>n_clips</th>\n",
       "      <th>n_sampled_clips</th>\n",
       "      <th>audio_dur</th>\n",
       "      <th>sampled_audio_dur</th>\n",
       "      <th>video_dur</th>\n",
       "      <th>sampled_video_dur</th>\n",
       "      <th>split</th>\n",
       "      <th>labels</th>\n",
       "      <th>title</th>\n",
       "      <th>description</th>\n",
       "      <th>tags</th>\n",
       "    </tr>\n",
       "  </thead>\n",
       "  <tbody>\n",
       "    <tr>\n",
       "      <th>0</th>\n",
       "      <td>6YIzDW8HBPo</td>\n",
       "      <td>28</td>\n",
       "      <td>6</td>\n",
       "      <td>224.398</td>\n",
       "      <td>48.0</td>\n",
       "      <td>224.29</td>\n",
       "      <td>48.06</td>\n",
       "      <td>train1</td>\n",
       "      <td>[Music video]</td>\n",
       "      <td>Sharper Than A Knife (Lyric Video) (Pete Hammo...</td>\n",
       "      <td>Dedicated to David Lynch. Animated by John von...</td>\n",
       "      <td>parralox,sharper,than,knife,2012,pwl,saw,stock...</td>\n",
       "    </tr>\n",
       "    <tr>\n",
       "      <th>1</th>\n",
       "      <td>4EYfkE6fczE</td>\n",
       "      <td>28</td>\n",
       "      <td>6</td>\n",
       "      <td>226.615</td>\n",
       "      <td>48.0</td>\n",
       "      <td>226.59</td>\n",
       "      <td>48.06</td>\n",
       "      <td>train1</td>\n",
       "      <td>[Music video]</td>\n",
       "      <td>San Quinn - Realest Intro Ever</td>\n",
       "      <td>Music video by San Quinn performing Realest In...</td>\n",
       "      <td>San Quinn,Realest Intro Ever,Realest,Intro,Eve...</td>\n",
       "    </tr>\n",
       "    <tr>\n",
       "      <th>2</th>\n",
       "      <td>2aAIB9-0wrc</td>\n",
       "      <td>42</td>\n",
       "      <td>9</td>\n",
       "      <td>338.013</td>\n",
       "      <td>72.0</td>\n",
       "      <td>338.00</td>\n",
       "      <td>72.09</td>\n",
       "      <td>train1</td>\n",
       "      <td>[Concert, Music video]</td>\n",
       "      <td>EU TENHO UMA ALIANÇA (DVD ALIANÇA) - André Val...</td>\n",
       "      <td>Gravação ao vivo do CD/DVD Aliança na Igreja B...</td>\n",
       "      <td>EU TENHO UMA ALIANÇA,ALIANÇA,André Valadão,Igr...</td>\n",
       "    </tr>\n",
       "    <tr>\n",
       "      <th>3</th>\n",
       "      <td>8kd4GNKcvc0</td>\n",
       "      <td>30</td>\n",
       "      <td>7</td>\n",
       "      <td>242.753</td>\n",
       "      <td>56.0</td>\n",
       "      <td>242.71</td>\n",
       "      <td>56.07</td>\n",
       "      <td>train1</td>\n",
       "      <td>[Concert, Musician]</td>\n",
       "      <td>Big Time Rush - Worldwide</td>\n",
       "      <td>Big Time Rush - Worldwide\\nJingle Jam, Blue Cr...</td>\n",
       "      <td>Big,Time,Rush,Worldwide,Jingle,Jam,Rochester,N...</td>\n",
       "    </tr>\n",
       "    <tr>\n",
       "      <th>4</th>\n",
       "      <td>3UoFEJ4e8KA</td>\n",
       "      <td>28</td>\n",
       "      <td>6</td>\n",
       "      <td>224.688</td>\n",
       "      <td>48.0</td>\n",
       "      <td>224.60</td>\n",
       "      <td>48.00</td>\n",
       "      <td>train1</td>\n",
       "      <td>[Concert]</td>\n",
       "      <td>Hazama - Lagu Untukmu</td>\n",
       "      <td>GSA Bukit Tinggi Klang</td>\n",
       "      <td>Hazama,Lagu,Untukmu,AF,GSA</td>\n",
       "    </tr>\n",
       "  </tbody>\n",
       "</table>\n",
       "</div>"
      ],
      "text/plain": [
       "           vid  n_clips  n_sampled_clips  audio_dur  sampled_audio_dur  \\\n",
       "0  6YIzDW8HBPo       28                6    224.398               48.0   \n",
       "1  4EYfkE6fczE       28                6    226.615               48.0   \n",
       "2  2aAIB9-0wrc       42                9    338.013               72.0   \n",
       "3  8kd4GNKcvc0       30                7    242.753               56.0   \n",
       "4  3UoFEJ4e8KA       28                6    224.688               48.0   \n",
       "\n",
       "   video_dur  sampled_video_dur   split                  labels  \\\n",
       "0     224.29              48.06  train1           [Music video]   \n",
       "1     226.59              48.06  train1           [Music video]   \n",
       "2     338.00              72.09  train1  [Concert, Music video]   \n",
       "3     242.71              56.07  train1     [Concert, Musician]   \n",
       "4     224.60              48.00  train1               [Concert]   \n",
       "\n",
       "                                               title  \\\n",
       "0  Sharper Than A Knife (Lyric Video) (Pete Hammo...   \n",
       "1                     San Quinn - Realest Intro Ever   \n",
       "2  EU TENHO UMA ALIANÇA (DVD ALIANÇA) - André Val...   \n",
       "3                          Big Time Rush - Worldwide   \n",
       "4                              Hazama - Lagu Untukmu   \n",
       "\n",
       "                                         description  \\\n",
       "0  Dedicated to David Lynch. Animated by John von...   \n",
       "1  Music video by San Quinn performing Realest In...   \n",
       "2  Gravação ao vivo do CD/DVD Aliança na Igreja B...   \n",
       "3  Big Time Rush - Worldwide\\nJingle Jam, Blue Cr...   \n",
       "4                             GSA Bukit Tinggi Klang   \n",
       "\n",
       "                                                tags  \n",
       "0  parralox,sharper,than,knife,2012,pwl,saw,stock...  \n",
       "1  San Quinn,Realest Intro Ever,Realest,Intro,Eve...  \n",
       "2  EU TENHO UMA ALIANÇA,ALIANÇA,André Valadão,Igr...  \n",
       "3  Big,Time,Rush,Worldwide,Jingle,Jam,Rochester,N...  \n",
       "4                         Hazama,Lagu,Untukmu,AF,GSA  "
      ]
     },
     "execution_count": 15,
     "metadata": {},
     "output_type": "execute_result"
    }
   ],
   "source": [
    "vid_df = pd.read_json(os.path.join(DATASET_INFO_DIR, 'train', 'video-info.jsonl'), lines=True)\n",
    "\n",
    "print(vid_df.info())\n",
    "\n",
    "vid_df.head()"
   ]
  },
  {
   "cell_type": "code",
   "execution_count": 16,
   "id": "5d64d6b3-c7ab-4ef2-97a7-26a4d53b4bc0",
   "metadata": {},
   "outputs": [
    {
     "name": "stdout",
     "output_type": "stream",
     "text": [
      "Insufficient clips in train for oKcBv8084ZU: expected 34, found 33\n",
      "Insufficient clips in train for ukk0TpAkJpQ: expected 23, found 22\n",
      "Insufficient clips in test for 9sMjAn5tP3U: expected 40, found 39\n",
      "Insufficient clips in test for QyIOvRn2Z_8: expected 61, found 60\n",
      "Insufficient clips in test for ZiAau4ESESs: expected 34, found 33\n",
      "Insufficient clips in test for hlRpflYurPk: expected 25, found 24\n"
     ]
    },
    {
     "data": {
      "text/plain": [
       "dict_keys(['train', 'dev', 'test'])"
      ]
     },
     "execution_count": 16,
     "metadata": {},
     "output_type": "execute_result"
    }
   ],
   "source": [
    "video_features_data = dict()\n",
    "for split in splits:\n",
    "    split_data = list()\n",
    "    vid_df = pd.read_json(os.path.join(DATASET_INFO_DIR, split, 'video-info.jsonl'), lines=True)\n",
    "    clip_df = pd.read_json(os.path.join(DATASET_INFO_DIR, split, 'clip-info.jsonl'), lines=True)\n",
    "    for _, row in vid_df.iterrows():\n",
    "        vid = row['vid']\n",
    "        labels = row['labels']\n",
    "        \n",
    "        if split == 'train':\n",
    "            n_clips = row['n_sampled_clips']\n",
    "        else:\n",
    "            n_clips = row['n_clips']\n",
    "        clip_nos = clip_df[clip_df['vid'] == vid]['clip_no'].tolist()\n",
    "        try:\n",
    "            assert n_clips == len(clip_nos)\n",
    "        except:\n",
    "            print(f'Insufficient clips in {split} for {vid}: expected {n_clips}, found {len(clip_nos)}')\n",
    "        \n",
    "        audio_embeds = list()\n",
    "        video_embeds = list()\n",
    "        for clip_no in clip_nos:\n",
    "            audio_file_name = f'{vid}-{clip_no}-audio-emb.npy'\n",
    "            audio_embed = np.load(os.path.join(EMBEDS_DIR, split, 'audio', audio_file_name))\n",
    "            audio_embeds.append(audio_embed)\n",
    "            video_file_name = f'{vid}-{clip_no}-video-emb.npy'\n",
    "            video_embed = np.load(os.path.join(EMBEDS_DIR, split, 'video', video_file_name))\n",
    "            video_embeds.append(video_embed)\n",
    "        audio_embeds = np.array(audio_embeds)\n",
    "        video_embeds = np.array(video_embeds)\n",
    "        split_data.append({\n",
    "            'vid': vid,\n",
    "            'audio_features': audio_embeds,\n",
    "            'video_features': video_embeds,\n",
    "            'labels': labels\n",
    "        })\n",
    "    video_features_data[split] = split_data\n",
    "\n",
    "video_features_data.keys()"
   ]
  },
  {
   "cell_type": "code",
   "execution_count": 17,
   "id": "de93fea0-dda6-44d4-87c3-13b1c883af82",
   "metadata": {},
   "outputs": [
    {
     "data": {
      "text/plain": [
       "(4831, 499, 461)"
      ]
     },
     "execution_count": 17,
     "metadata": {},
     "output_type": "execute_result"
    }
   ],
   "source": [
    "len(video_features_data['train']), len(video_features_data['dev']), len(video_features_data['test'])"
   ]
  },
  {
   "cell_type": "code",
   "execution_count": 18,
   "id": "dde83957-9b40-43b4-9fea-a4702bd5ff39",
   "metadata": {},
   "outputs": [
    {
     "data": {
      "text/plain": [
       "{'audio_features': array([[ 0.6743951 , -0.36910027, -0.4471945 , ..., -0.12636545,\n",
       "         -0.41669586,  0.11578765],\n",
       "        [ 0.4688327 , -0.39710957, -0.162885  , ..., -0.12445029,\n",
       "         -0.49513543, -0.14739208],\n",
       "        [ 0.31135932, -0.5993597 ,  0.08894795, ..., -0.07330168,\n",
       "         -0.5206213 , -0.23732568],\n",
       "        [ 0.5557515 , -0.24827856,  0.279797  , ...,  0.06434721,\n",
       "         -0.3691315 , -0.1484194 ],\n",
       "        [ 0.7185022 , -0.40858406,  0.08637433, ..., -0.05709485,\n",
       "         -0.36055908, -0.06420889],\n",
       "        [ 0.15080181, -0.1680652 ,  0.39890742, ..., -0.21567212,\n",
       "         -0.31063494, -0.46856382]], dtype=float32),\n",
       " 'labels': ['Music video'],\n",
       " 'vid': '6YIzDW8HBPo',\n",
       " 'video_features': array([[ 0.38145015, -0.09980445,  0.3268809 , ..., -0.19327152,\n",
       "         -0.00652518,  0.4238313 ],\n",
       "        [ 0.9398173 ,  0.613344  ,  1.270302  , ..., -0.0383115 ,\n",
       "         -0.41319394, -0.84817284],\n",
       "        [ 0.97678685,  0.7646564 ,  1.1867974 , ...,  0.02679942,\n",
       "         -0.4434678 , -0.87008107],\n",
       "        [ 0.8824585 ,  0.57189745,  1.3962859 , ...,  0.05632541,\n",
       "         -0.11028233, -1.0220399 ],\n",
       "        [ 0.86121404,  0.787487  ,  1.1939266 , ..., -0.03431915,\n",
       "         -0.22336325, -1.036899  ],\n",
       "        [ 0.90749484,  0.8038483 ,  1.0874559 , ...,  0.11031199,\n",
       "         -0.39060813, -1.0905346 ]], dtype=float32)}"
      ]
     },
     "execution_count": 18,
     "metadata": {},
     "output_type": "execute_result"
    }
   ],
   "source": [
    "video_features_data['train'][0]"
   ]
  },
  {
   "cell_type": "code",
   "execution_count": 19,
   "id": "015109e2-8af7-4c14-abb5-3444135e6804",
   "metadata": {},
   "outputs": [
    {
     "data": {
      "text/plain": [
       "(300,)"
      ]
     },
     "execution_count": 19,
     "metadata": {},
     "output_type": "execute_result"
    }
   ],
   "source": [
    "video_features_data['train'][0]['video_features'].mean(axis=0).shape"
   ]
  },
  {
   "cell_type": "code",
   "execution_count": 20,
   "id": "6285d411-efcb-4c6e-bed5-db06995b1040",
   "metadata": {},
   "outputs": [
    {
     "data": {
      "text/plain": [
       "dict_keys(['train', 'dev', 'test'])"
      ]
     },
     "execution_count": 20,
     "metadata": {},
     "output_type": "execute_result"
    }
   ],
   "source": [
    "mean_data = dict()\n",
    "for split in splits:\n",
    "    split_data = video_features_data[split]\n",
    "    all_audio = list()\n",
    "    all_video = list()\n",
    "    all_labels = list()\n",
    "    for instance in split_data:\n",
    "        all_audio.append(instance['audio_features'].mean(axis=0))\n",
    "        all_video.append(instance['video_features'].mean(axis=0))\n",
    "        all_labels.append(instance['labels'])\n",
    "    all_audio = np.array(all_audio)\n",
    "    all_video = np.array(all_video)\n",
    "    mean_data[split] = {'audio': all_audio, 'video': all_video, 'labels': all_labels}\n",
    "\n",
    "mean_data.keys()"
   ]
  },
  {
   "cell_type": "code",
   "execution_count": 21,
   "id": "2dd68bfa-ca01-4291-ab44-6f564aab0a44",
   "metadata": {},
   "outputs": [
    {
     "data": {
      "text/plain": [
       "dict_keys(['audio', 'video', 'labels'])"
      ]
     },
     "execution_count": 21,
     "metadata": {},
     "output_type": "execute_result"
    }
   ],
   "source": [
    "mean_data['train'].keys()"
   ]
  },
  {
   "cell_type": "code",
   "execution_count": 22,
   "id": "d5710786-4bf6-43e6-a2f1-bf5720f09e70",
   "metadata": {},
   "outputs": [
    {
     "data": {
      "text/plain": [
       "((4831, 300), (4831, 300), 4831)"
      ]
     },
     "execution_count": 22,
     "metadata": {},
     "output_type": "execute_result"
    }
   ],
   "source": [
    "mean_data['train']['audio'].shape, mean_data['train']['video'].shape, len(mean_data['train']['labels'])"
   ]
  },
  {
   "cell_type": "code",
   "execution_count": 23,
   "id": "a97ce3cf-e12b-48ec-bc33-a3d770904fda",
   "metadata": {},
   "outputs": [
    {
     "data": {
      "text/plain": [
       "LabelEncoder()"
      ]
     },
     "execution_count": 23,
     "metadata": {},
     "output_type": "execute_result"
    }
   ],
   "source": [
    "all_labels = set()\n",
    "[all_labels.update(labels) for labels in mean_data['train']['labels']]\n",
    "len(all_labels)\n",
    "label_enc = LabelEncoder()\n",
    "label_enc.fit(list(all_labels))"
   ]
  },
  {
   "cell_type": "code",
   "execution_count": 24,
   "id": "26918b74-4b84-4ce4-aec5-b5837c45f24f",
   "metadata": {},
   "outputs": [
    {
     "data": {
      "text/plain": [
       "(4831, 45)"
      ]
     },
     "execution_count": 24,
     "metadata": {},
     "output_type": "execute_result"
    }
   ],
   "source": [
    "multi_lab_bin = MultiLabelBinarizer()\n",
    "mean_data['train']['mult_lab'] = multi_lab_bin.fit_transform(\n",
    "    [label_enc.transform(labels) for labels in mean_data['train']['labels']])\n",
    "\n",
    "mean_data['train']['mult_lab'].shape"
   ]
  },
  {
   "cell_type": "code",
   "execution_count": 25,
   "id": "40d53042-7bc2-42fa-81a3-47971d964133",
   "metadata": {},
   "outputs": [
    {
     "data": {
      "text/plain": [
       "(499, 45)"
      ]
     },
     "execution_count": 25,
     "metadata": {},
     "output_type": "execute_result"
    }
   ],
   "source": [
    "mean_data['dev']['mult_lab'] = multi_lab_bin.transform(\n",
    "    [label_enc.transform(labels) for labels in mean_data['dev']['labels']])\n",
    "\n",
    "mean_data['dev']['mult_lab'].shape"
   ]
  },
  {
   "cell_type": "code",
   "execution_count": 26,
   "id": "9451afbc-d312-4702-82ab-9f371acfda4a",
   "metadata": {},
   "outputs": [
    {
     "data": {
      "text/plain": [
       "(461, 45)"
      ]
     },
     "execution_count": 26,
     "metadata": {},
     "output_type": "execute_result"
    }
   ],
   "source": [
    "mean_data['test']['mult_lab'] = multi_lab_bin.transform(\n",
    "    [label_enc.transform(labels) for labels in mean_data['test']['labels']])\n",
    "\n",
    "mean_data['test']['mult_lab'].shape"
   ]
  },
  {
   "cell_type": "code",
   "execution_count": 27,
   "id": "9d2c15b4-ce43-4bf7-b694-7d8b4847efbb",
   "metadata": {},
   "outputs": [
    {
     "data": {
      "text/plain": [
       "((4831, 600), (499, 600), (461, 600), (4831, 45), (499, 45), (461, 45))"
      ]
     },
     "execution_count": 27,
     "metadata": {},
     "output_type": "execute_result"
    }
   ],
   "source": [
    "x_train = np.hstack((mean_data['train']['audio'], mean_data['train']['video']))\n",
    "x_dev = np.hstack((mean_data['dev']['audio'], mean_data['dev']['video']))\n",
    "x_test = np.hstack((mean_data['test']['audio'], mean_data['test']['video']))\n",
    "\n",
    "y_train = mean_data['train']['mult_lab']\n",
    "y_dev = mean_data['dev']['mult_lab']\n",
    "y_test = mean_data['test']['mult_lab']\n",
    "\n",
    "x_train.shape, x_dev.shape, x_test.shape, y_train.shape, y_dev.shape, y_test.shape"
   ]
  },
  {
   "cell_type": "code",
   "execution_count": 33,
   "id": "815d962b-e037-4604-b970-42d12f633cca",
   "metadata": {},
   "outputs": [
    {
     "name": "stderr",
     "output_type": "stream",
     "text": [
      "/home2/sagarsj42/.local/lib/python3.6/site-packages/sklearn/neural_network/_multilayer_perceptron.py:617: ConvergenceWarning: Stochastic Optimizer: Maximum iterations (200) reached and the optimization hasn't converged yet.\n",
      "  % self.max_iter, ConvergenceWarning)\n"
     ]
    },
    {
     "data": {
      "text/plain": [
       "MLPClassifier()"
      ]
     },
     "execution_count": 33,
     "metadata": {},
     "output_type": "execute_result"
    }
   ],
   "source": [
    "mlp = MLPClassifier()\n",
    "mlp.fit(x_train, y_train)"
   ]
  },
  {
   "cell_type": "code",
   "execution_count": 36,
   "id": "15d95786-c350-493f-a293-fd9e30c24eac",
   "metadata": {},
   "outputs": [
    {
     "data": {
      "text/plain": [
       "((4831, 45), (499, 45), (461, 45))"
      ]
     },
     "execution_count": 36,
     "metadata": {},
     "output_type": "execute_result"
    }
   ],
   "source": [
    "pred_train = mlp.predict(x_train)\n",
    "pred_dev = mlp.predict(x_dev)\n",
    "pred_test = mlp.predict(x_test)\n",
    "\n",
    "pred_train.shape, pred_dev.shape, pred_test.shape"
   ]
  },
  {
   "cell_type": "code",
   "execution_count": 38,
   "id": "21b81c0c-5127-4323-8a9b-6b5caa89255a",
   "metadata": {},
   "outputs": [
    {
     "data": {
      "text/plain": [
       "0.6131235768991927"
      ]
     },
     "execution_count": 38,
     "metadata": {},
     "output_type": "execute_result"
    }
   ],
   "source": [
    "accuracy_score(y_true=y_train, y_pred=pred_train)"
   ]
  },
  {
   "cell_type": "code",
   "execution_count": 39,
   "id": "ef691fe2-f026-4f4e-8159-41941eae3a16",
   "metadata": {},
   "outputs": [
    {
     "data": {
      "text/plain": [
       "0.5390781563126252"
      ]
     },
     "execution_count": 39,
     "metadata": {},
     "output_type": "execute_result"
    }
   ],
   "source": [
    "accuracy_score(y_true=y_dev, y_pred=pred_dev)"
   ]
  },
  {
   "cell_type": "code",
   "execution_count": 40,
   "id": "880a03d1-779a-46cc-bf27-eb67fc0818ae",
   "metadata": {},
   "outputs": [
    {
     "data": {
      "text/plain": [
       "0.5184381778741866"
      ]
     },
     "execution_count": 40,
     "metadata": {},
     "output_type": "execute_result"
    }
   ],
   "source": [
    "accuracy_score(y_true=y_test, y_pred=pred_test)"
   ]
  },
  {
   "cell_type": "code",
   "execution_count": null,
   "id": "126dca17-5171-4c8d-aece-b6cff1f6faa4",
   "metadata": {},
   "outputs": [],
   "source": []
  }
 ],
 "metadata": {
  "kernelspec": {
   "display_name": "Python 3",
   "language": "python",
   "name": "python3"
  },
  "language_info": {
   "codemirror_mode": {
    "name": "ipython",
    "version": 3
   },
   "file_extension": ".py",
   "mimetype": "text/x-python",
   "name": "python",
   "nbconvert_exporter": "python",
   "pygments_lexer": "ipython3",
   "version": "3.6.9"
  }
 },
 "nbformat": 4,
 "nbformat_minor": 5
}
